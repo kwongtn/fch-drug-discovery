{
 "cells": [
  {
   "cell_type": "markdown",
   "metadata": {},
   "source": [
    "# Description\n",
    "\n",
    "This notebook is used to tabulate final results and compare novel generated molecules vs HIV inhibitors vs Remdesivir which entered clinical trials just a few days ago."
   ]
  },
  {
   "cell_type": "markdown",
   "metadata": {},
   "source": [
    "## Now the best results and save to sdf for last double check tabulation in PyRx"
   ]
  },
  {
   "cell_type": "code",
   "execution_count": 235,
   "metadata": {
    "scrolled": true
   },
   "outputs": [],
   "source": [
    "import pandas as pd\n",
    "from rdkit import Chem, DataStructs\n",
    "import random\n",
    "import numpy as np\n",
    "import rdkit.Chem.PropertyMol"
   ]
  },
  {
   "cell_type": "code",
   "execution_count": 236,
   "metadata": {
    "scrolled": false
   },
   "outputs": [
    {
     "name": "stdout",
     "output_type": "stream",
     "text": [
      "(18364, 7)\n"
     ]
    },
    {
     "data": {
      "text/html": [
       "<div>\n",
       "<style scoped>\n",
       "    .dataframe tbody tr th:only-of-type {\n",
       "        vertical-align: middle;\n",
       "    }\n",
       "\n",
       "    .dataframe tbody tr th {\n",
       "        vertical-align: top;\n",
       "    }\n",
       "\n",
       "    .dataframe thead th {\n",
       "        text-align: right;\n",
       "    }\n",
       "</style>\n",
       "<table border=\"1\" class=\"dataframe\">\n",
       "  <thead>\n",
       "    <tr style=\"text-align: right;\">\n",
       "      <th></th>\n",
       "      <th>id</th>\n",
       "      <th>gen</th>\n",
       "      <th>smile</th>\n",
       "      <th>source</th>\n",
       "      <th>weight</th>\n",
       "      <th>logp</th>\n",
       "      <th>score</th>\n",
       "    </tr>\n",
       "  </thead>\n",
       "  <tbody>\n",
       "    <tr>\n",
       "      <th>0</th>\n",
       "      <td>ACLT</td>\n",
       "      <td>17</td>\n",
       "      <td>CC1CCCCCCCCCCCCCCCCCCCCCCCCCCCCCCCCCCCCCCCC2CC...</td>\n",
       "      <td>generated</td>\n",
       "      <td>1354.571</td>\n",
       "      <td>36.8575</td>\n",
       "      <td>-17.0</td>\n",
       "    </tr>\n",
       "    <tr>\n",
       "      <th>1</th>\n",
       "      <td>ACDH</td>\n",
       "      <td>17</td>\n",
       "      <td>CC1C=CCCCCCCCCCCCCCCCCCCCCCCCCCCCCCCCCCCCCCCCC...</td>\n",
       "      <td>generated</td>\n",
       "      <td>1470.734</td>\n",
       "      <td>39.2484</td>\n",
       "      <td>-16.9</td>\n",
       "    </tr>\n",
       "    <tr>\n",
       "      <th>2</th>\n",
       "      <td>ABKH</td>\n",
       "      <td>16</td>\n",
       "      <td>CC1CCCCCCCCCCCCCCCCCCCCCCCCCCCCCCCCCCCCCCC2CCC...</td>\n",
       "      <td>generated</td>\n",
       "      <td>1338.443</td>\n",
       "      <td>35.0655</td>\n",
       "      <td>-16.8</td>\n",
       "    </tr>\n",
       "    <tr>\n",
       "      <th>3</th>\n",
       "      <td>ACLV</td>\n",
       "      <td>17</td>\n",
       "      <td>CC1CCCCCCCCCCCCCCCCCCCCCCCCCCCCCCCCCCCCCCC2CCC...</td>\n",
       "      <td>generated</td>\n",
       "      <td>1298.463</td>\n",
       "      <td>35.2971</td>\n",
       "      <td>-16.8</td>\n",
       "    </tr>\n",
       "    <tr>\n",
       "      <th>4</th>\n",
       "      <td>ABWF</td>\n",
       "      <td>16</td>\n",
       "      <td>CC1CCCCCCCCCCCCCCCCCCCCCCCCCCCCCCCCCCCCCCCC2CC...</td>\n",
       "      <td>generated</td>\n",
       "      <td>1342.390</td>\n",
       "      <td>34.3356</td>\n",
       "      <td>-16.7</td>\n",
       "    </tr>\n",
       "  </tbody>\n",
       "</table>\n",
       "</div>"
      ],
      "text/plain": [
       "     id  gen                                              smile     source  \\\n",
       "0  ACLT   17  CC1CCCCCCCCCCCCCCCCCCCCCCCCCCCCCCCCCCCCCCCC2CC...  generated   \n",
       "1  ACDH   17  CC1C=CCCCCCCCCCCCCCCCCCCCCCCCCCCCCCCCCCCCCCCCC...  generated   \n",
       "2  ABKH   16  CC1CCCCCCCCCCCCCCCCCCCCCCCCCCCCCCCCCCCCCCC2CCC...  generated   \n",
       "3  ACLV   17  CC1CCCCCCCCCCCCCCCCCCCCCCCCCCCCCCCCCCCCCCC2CCC...  generated   \n",
       "4  ABWF   16  CC1CCCCCCCCCCCCCCCCCCCCCCCCCCCCCCCCCCCCCCCC2CC...  generated   \n",
       "\n",
       "     weight     logp  score  \n",
       "0  1354.571  36.8575  -17.0  \n",
       "1  1470.734  39.2484  -16.9  \n",
       "2  1338.443  35.0655  -16.8  \n",
       "3  1298.463  35.2971  -16.8  \n",
       "4  1342.390  34.3356  -16.7  "
      ]
     },
     "execution_count": 236,
     "metadata": {},
     "output_type": "execute_result"
    }
   ],
   "source": [
    "# './generations/master_results_table_gen10.csv'\n",
    "\n",
    "final = pd.read_csv('./generations/master_results_table_gen17.csv',sep=',')\n",
    "final = final.sort_values('score', ascending=True)\n",
    "print(final.shape)\n",
    "final.head()"
   ]
  },
  {
   "cell_type": "code",
   "execution_count": 241,
   "metadata": {},
   "outputs": [
    {
     "data": {
      "text/plain": [
       "(1042, 7)"
      ]
     },
     "execution_count": 241,
     "metadata": {},
     "output_type": "execute_result"
    }
   ],
   "source": [
    "final[final['gen']==15].shape"
   ]
  },
  {
   "cell_type": "code",
   "execution_count": 237,
   "metadata": {
    "scrolled": true
   },
   "outputs": [
    {
     "name": "stdout",
     "output_type": "stream",
     "text": [
      "(18300, 3)\n"
     ]
    },
    {
     "data": {
      "text/html": [
       "<div>\n",
       "<style scoped>\n",
       "    .dataframe tbody tr th:only-of-type {\n",
       "        vertical-align: middle;\n",
       "    }\n",
       "\n",
       "    .dataframe tbody tr th {\n",
       "        vertical-align: top;\n",
       "    }\n",
       "\n",
       "    .dataframe thead th {\n",
       "        text-align: right;\n",
       "    }\n",
       "</style>\n",
       "<table border=\"1\" class=\"dataframe\">\n",
       "  <thead>\n",
       "    <tr style=\"text-align: right;\">\n",
       "      <th></th>\n",
       "      <th>smile</th>\n",
       "      <th>score</th>\n",
       "      <th>gen</th>\n",
       "    </tr>\n",
       "  </thead>\n",
       "  <tbody>\n",
       "    <tr>\n",
       "      <th>9806</th>\n",
       "      <td>CC1CCCCCCCCCCCCCCCCCCCCCCCCCCCCCCCCCCCCCCCC2CC...</td>\n",
       "      <td>-17.0</td>\n",
       "      <td>17</td>\n",
       "    </tr>\n",
       "    <tr>\n",
       "      <th>8129</th>\n",
       "      <td>CC1C=CCCCCCCCCCCCCCCCCCCCCCCCCCCCCCCCCCCCCCCCC...</td>\n",
       "      <td>-16.9</td>\n",
       "      <td>17</td>\n",
       "    </tr>\n",
       "    <tr>\n",
       "      <th>9760</th>\n",
       "      <td>CC1CCCCCCCCCCCCCCCCCCCCCCCCCCCCCCCCCCCCCCC2CCC...</td>\n",
       "      <td>-16.8</td>\n",
       "      <td>16</td>\n",
       "    </tr>\n",
       "    <tr>\n",
       "      <th>9765</th>\n",
       "      <td>CC1CCCCCCCCCCCCCCCCCCCCCCCCCCCCCCCCCCCCCCC2CCC...</td>\n",
       "      <td>-16.8</td>\n",
       "      <td>17</td>\n",
       "    </tr>\n",
       "    <tr>\n",
       "      <th>9795</th>\n",
       "      <td>CC1CCCCCCCCCCCCCCCCCCCCCCCCCCCCCCCCCCCCCCCC2CC...</td>\n",
       "      <td>-16.7</td>\n",
       "      <td>16</td>\n",
       "    </tr>\n",
       "  </tbody>\n",
       "</table>\n",
       "</div>"
      ],
      "text/plain": [
       "                                                  smile  score  gen\n",
       "9806  CC1CCCCCCCCCCCCCCCCCCCCCCCCCCCCCCCCCCCCCCCC2CC...  -17.0   17\n",
       "8129  CC1C=CCCCCCCCCCCCCCCCCCCCCCCCCCCCCCCCCCCCCCCCC...  -16.9   17\n",
       "9760  CC1CCCCCCCCCCCCCCCCCCCCCCCCCCCCCCCCCCCCCCC2CCC...  -16.8   16\n",
       "9765  CC1CCCCCCCCCCCCCCCCCCCCCCCCCCCCCCCCCCCCCCC2CCC...  -16.8   17\n",
       "9795  CC1CCCCCCCCCCCCCCCCCCCCCCCCCCCCCCCCCCCCCCCC2CC...  -16.7   16"
      ]
     },
     "execution_count": 237,
     "metadata": {},
     "output_type": "execute_result"
    }
   ],
   "source": [
    "final_max = final.groupby(\"smile\").max()[[\"score\",\"gen\"]].reset_index()\n",
    "final_max = final_max.sort_values('score', ascending=True)\n",
    "print(final_max.shape)\n",
    "final_max.head()"
   ]
  },
  {
   "cell_type": "code",
   "execution_count": 238,
   "metadata": {
    "scrolled": true
   },
   "outputs": [
    {
     "name": "stdout",
     "output_type": "stream",
     "text": [
      "(2492, 7)\n"
     ]
    },
    {
     "data": {
      "text/html": [
       "<div>\n",
       "<style scoped>\n",
       "    .dataframe tbody tr th:only-of-type {\n",
       "        vertical-align: middle;\n",
       "    }\n",
       "\n",
       "    .dataframe tbody tr th {\n",
       "        vertical-align: top;\n",
       "    }\n",
       "\n",
       "    .dataframe thead th {\n",
       "        text-align: right;\n",
       "    }\n",
       "</style>\n",
       "<table border=\"1\" class=\"dataframe\">\n",
       "  <thead>\n",
       "    <tr style=\"text-align: right;\">\n",
       "      <th></th>\n",
       "      <th>smile</th>\n",
       "      <th>gen</th>\n",
       "      <th>id</th>\n",
       "      <th>source</th>\n",
       "      <th>weight</th>\n",
       "      <th>logp</th>\n",
       "      <th>score</th>\n",
       "    </tr>\n",
       "  </thead>\n",
       "  <tbody>\n",
       "    <tr>\n",
       "      <th>790</th>\n",
       "      <td>CC(=O)Nc1nnnn1C1=CC=CC(C(=O)Nc2nnnn2N2C=NN=NN2...</td>\n",
       "      <td>17</td>\n",
       "      <td>ABZY</td>\n",
       "      <td>generated</td>\n",
       "      <td>918.713</td>\n",
       "      <td>-2.58760</td>\n",
       "      <td>-13.3</td>\n",
       "    </tr>\n",
       "    <tr>\n",
       "      <th>824</th>\n",
       "      <td>CC1C=CC=C(C(=O)Nc2nnnn2N2CCN(C(=O)Nc3nnnnn3)C2...</td>\n",
       "      <td>12</td>\n",
       "      <td>ABQA</td>\n",
       "      <td>generated</td>\n",
       "      <td>815.779</td>\n",
       "      <td>2.33710</td>\n",
       "      <td>-13.3</td>\n",
       "    </tr>\n",
       "    <tr>\n",
       "      <th>878</th>\n",
       "      <td>Cc1ccc(C(=O)Nc2nnnn2N2C=NN=NN2N2CCN(C(=O)Nc3nn...</td>\n",
       "      <td>16</td>\n",
       "      <td>AAXQ</td>\n",
       "      <td>generated</td>\n",
       "      <td>696.656</td>\n",
       "      <td>3.15662</td>\n",
       "      <td>-13.2</td>\n",
       "    </tr>\n",
       "    <tr>\n",
       "      <th>885</th>\n",
       "      <td>CC1CCCCC(C(=O)Nc2nnnn2N2C=NN=NN2N2C=NN=NN2N2C=...</td>\n",
       "      <td>17</td>\n",
       "      <td>ABPW</td>\n",
       "      <td>generated</td>\n",
       "      <td>902.754</td>\n",
       "      <td>-0.40890</td>\n",
       "      <td>-13.2</td>\n",
       "    </tr>\n",
       "    <tr>\n",
       "      <th>966</th>\n",
       "      <td>CC1CCCC(C(=O)Nc2nnnn2N2C=NN=NN2N2C=NN=NN2N2CCN...</td>\n",
       "      <td>16</td>\n",
       "      <td>ABCA</td>\n",
       "      <td>generated</td>\n",
       "      <td>721.671</td>\n",
       "      <td>1.44670</td>\n",
       "      <td>-13.1</td>\n",
       "    </tr>\n",
       "  </tbody>\n",
       "</table>\n",
       "</div>"
      ],
      "text/plain": [
       "                                                 smile  gen    id     source  \\\n",
       "790  CC(=O)Nc1nnnn1C1=CC=CC(C(=O)Nc2nnnn2N2C=NN=NN2...   17  ABZY  generated   \n",
       "824  CC1C=CC=C(C(=O)Nc2nnnn2N2CCN(C(=O)Nc3nnnnn3)C2...   12  ABQA  generated   \n",
       "878  Cc1ccc(C(=O)Nc2nnnn2N2C=NN=NN2N2CCN(C(=O)Nc3nn...   16  AAXQ  generated   \n",
       "885  CC1CCCCC(C(=O)Nc2nnnn2N2C=NN=NN2N2C=NN=NN2N2C=...   17  ABPW  generated   \n",
       "966  CC1CCCC(C(=O)Nc2nnnn2N2C=NN=NN2N2C=NN=NN2N2CCN...   16  ABCA  generated   \n",
       "\n",
       "      weight     logp  score  \n",
       "790  918.713 -2.58760  -13.3  \n",
       "824  815.779  2.33710  -13.3  \n",
       "878  696.656  3.15662  -13.2  \n",
       "885  902.754 -0.40890  -13.2  \n",
       "966  721.671  1.44670  -13.1  "
      ]
     },
     "execution_count": 238,
     "metadata": {},
     "output_type": "execute_result"
    }
   ],
   "source": [
    "final_joined = pd.merge(final_max, final, on=['smile','gen'], suffixes=('_old','_new'), how='left')\n",
    "\n",
    "# final_joined = final_joined[(final_joined['score_new'] <= -15.0) & (final_joined['weight'] < 900)]\n",
    "final_joined = final_joined[(final_joined['score_new'] <= -7.8) & (final_joined['logp']<5)]\n",
    "\n",
    "final_joined['score'] = final_joined['score_new']\n",
    "final_joined = final_joined.drop('score_old', axis=1)\n",
    "final_joined = final_joined.drop('score_new', axis=1)\n",
    "print(final_joined.shape)\n",
    "final_joined.head(5)"
   ]
  },
  {
   "cell_type": "markdown",
   "metadata": {
    "scrolled": true
   },
   "source": [
    "#### Note I also manually added Remdesivir because as working on this it went into clinical trials\n",
    "###https://en.wikipedia.org/wiki/Remdesivir\n",
    "\n",
    "final_table.to_csv(r'./generations/master_results_table_final.csv', index=False)"
   ]
  },
  {
   "cell_type": "markdown",
   "metadata": {
    "scrolled": true
   },
   "source": [
    "final_table = pd.read_csv('./generations/master_results_table_final.csv')\n",
    "final_table.tail()"
   ]
  },
  {
   "cell_type": "code",
   "execution_count": 239,
   "metadata": {
    "scrolled": true
   },
   "outputs": [],
   "source": [
    "def set_molecule(row):\n",
    "    mol = Chem.MolFromSmiles(row['smile'])\n",
    "    pm = Chem.PropertyMol.PropertyMol(mol)\n",
    "    title = 'id' + str(row['id']) + 'gen'+ str(row['gen'])\n",
    "    # print(title)\n",
    "    # Enables for tracking which molecule is which in PyRx GUI and PyRx results export\n",
    "    pm.SetProp('Title', title)\n",
    "    return pm"
   ]
  },
  {
   "cell_type": "code",
   "execution_count": 240,
   "metadata": {},
   "outputs": [
    {
     "data": {
      "text/plain": [
       "(1, 7)"
      ]
     },
     "execution_count": 240,
     "metadata": {},
     "output_type": "execute_result"
    }
   ],
   "source": [
    "final_joined[final_joined['gen']==15].shape"
   ]
  },
  {
   "cell_type": "markdown",
   "metadata": {
    "scrolled": true
   },
   "source": [
    "mols_for_export = final_table.apply(set_molecule, axis=1)\n",
    "### list(mols_for_export)"
   ]
  },
  {
   "cell_type": "markdown",
   "metadata": {},
   "source": [
    "len(mols_for_export)"
   ]
  },
  {
   "cell_type": "markdown",
   "metadata": {
    "scrolled": true
   },
   "source": [
    "w = Chem.SDWriter('./generations/genfinal.sdf')\n",
    "for m in mols_for_export:\n",
    "    w.write(m)"
   ]
  },
  {
   "cell_type": "markdown",
   "metadata": {},
   "source": [
    "# Rerun everything through PyRx once more to double check, then publish final metrics"
   ]
  },
  {
   "cell_type": "code",
   "execution_count": 219,
   "metadata": {},
   "outputs": [],
   "source": [
    "dfs = []\n",
    "\n",
    "# new_scores = pd.read_csv('./generations/results/results_gen12.csv',sep=',')\n",
    "\n",
    "current_gen = 17\n",
    "for i in range(0, current_gen+1):\n",
    "    dfs.append(pd.read_csv('./generations/results/results_gen' + str(i) +'.csv',sep=','))\n",
    "\n",
    "# Concatenate all data into one DataFrame\n",
    "new_scores = pd.concat(dfs, ignore_index=True)"
   ]
  },
  {
   "cell_type": "code",
   "execution_count": 205,
   "metadata": {
    "scrolled": true
   },
   "outputs": [
    {
     "data": {
      "text/html": [
       "<div>\n",
       "<style scoped>\n",
       "    .dataframe tbody tr th:only-of-type {\n",
       "        vertical-align: middle;\n",
       "    }\n",
       "\n",
       "    .dataframe tbody tr th {\n",
       "        vertical-align: top;\n",
       "    }\n",
       "\n",
       "    .dataframe thead th {\n",
       "        text-align: right;\n",
       "    }\n",
       "</style>\n",
       "<table border=\"1\" class=\"dataframe\">\n",
       "  <thead>\n",
       "    <tr style=\"text-align: right;\">\n",
       "      <th></th>\n",
       "      <th>Ligand</th>\n",
       "      <th>Binding Affinity</th>\n",
       "      <th>rmsd/ub</th>\n",
       "      <th>rmsd/lb</th>\n",
       "    </tr>\n",
       "  </thead>\n",
       "  <tbody>\n",
       "    <tr>\n",
       "      <th>0</th>\n",
       "      <td>6lu7_idAAAAgen0</td>\n",
       "      <td>-6.7</td>\n",
       "      <td>0.000</td>\n",
       "      <td>0.000</td>\n",
       "    </tr>\n",
       "    <tr>\n",
       "      <th>1</th>\n",
       "      <td>6lu7_idAAAAgen0</td>\n",
       "      <td>-6.6</td>\n",
       "      <td>2.125</td>\n",
       "      <td>1.628</td>\n",
       "    </tr>\n",
       "    <tr>\n",
       "      <th>2</th>\n",
       "      <td>6lu7_idAAAAgen0</td>\n",
       "      <td>-6.4</td>\n",
       "      <td>9.023</td>\n",
       "      <td>3.692</td>\n",
       "    </tr>\n",
       "    <tr>\n",
       "      <th>3</th>\n",
       "      <td>6lu7_idAAAAgen0</td>\n",
       "      <td>-6.4</td>\n",
       "      <td>6.626</td>\n",
       "      <td>3.987</td>\n",
       "    </tr>\n",
       "    <tr>\n",
       "      <th>4</th>\n",
       "      <td>6lu7_idAAAAgen0</td>\n",
       "      <td>-6.3</td>\n",
       "      <td>6.182</td>\n",
       "      <td>4.837</td>\n",
       "    </tr>\n",
       "  </tbody>\n",
       "</table>\n",
       "</div>"
      ],
      "text/plain": [
       "            Ligand  Binding Affinity  rmsd/ub   rmsd/lb\n",
       "0  6lu7_idAAAAgen0              -6.7    0.000     0.000\n",
       "1  6lu7_idAAAAgen0              -6.6    2.125     1.628\n",
       "2  6lu7_idAAAAgen0              -6.4    9.023     3.692\n",
       "3  6lu7_idAAAAgen0              -6.4    6.626     3.987\n",
       "4  6lu7_idAAAAgen0              -6.3    6.182     4.837"
      ]
     },
     "execution_count": 205,
     "metadata": {},
     "output_type": "execute_result"
    }
   ],
   "source": [
    "# new_scores = pd.read_csv('./generations/results/results_genfinal.csv',sep=',')\n",
    "final_table = pd.read_csv('./generations/master_results_table_gen' + str(current_gen) +'.csv')\n",
    "new_scores.head()"
   ]
  },
  {
   "cell_type": "code",
   "execution_count": 169,
   "metadata": {
    "scrolled": true
   },
   "outputs": [
    {
     "data": {
      "text/html": [
       "<div>\n",
       "<style scoped>\n",
       "    .dataframe tbody tr th:only-of-type {\n",
       "        vertical-align: middle;\n",
       "    }\n",
       "\n",
       "    .dataframe tbody tr th {\n",
       "        vertical-align: top;\n",
       "    }\n",
       "\n",
       "    .dataframe thead tr th {\n",
       "        text-align: left;\n",
       "    }\n",
       "</style>\n",
       "<table border=\"1\" class=\"dataframe\">\n",
       "  <thead>\n",
       "    <tr>\n",
       "      <th></th>\n",
       "      <th>Ligand</th>\n",
       "      <th colspan=\"2\" halign=\"left\">Binding Affinity</th>\n",
       "    </tr>\n",
       "    <tr>\n",
       "      <th></th>\n",
       "      <th></th>\n",
       "      <th>amin</th>\n",
       "      <th>average</th>\n",
       "    </tr>\n",
       "  </thead>\n",
       "  <tbody>\n",
       "    <tr>\n",
       "      <th>0</th>\n",
       "      <td>6LU7_idAAAAgen10_uff_E=112.89</td>\n",
       "      <td>-4.8</td>\n",
       "      <td>-4.511111</td>\n",
       "    </tr>\n",
       "    <tr>\n",
       "      <th>1</th>\n",
       "      <td>6LU7_idAAAAgen10_uff_E=178.91</td>\n",
       "      <td>-4.7</td>\n",
       "      <td>-4.377778</td>\n",
       "    </tr>\n",
       "    <tr>\n",
       "      <th>2</th>\n",
       "      <td>6LU7_idAAAAgen11_uff_E=3389.13</td>\n",
       "      <td>-11.0</td>\n",
       "      <td>-10.255556</td>\n",
       "    </tr>\n",
       "    <tr>\n",
       "      <th>3</th>\n",
       "      <td>6LU7_idAAAAgen11_uff_E=95.55</td>\n",
       "      <td>-4.1</td>\n",
       "      <td>-3.877778</td>\n",
       "    </tr>\n",
       "    <tr>\n",
       "      <th>4</th>\n",
       "      <td>6LU7_idAAAAgen12_uff_E=-0.64</td>\n",
       "      <td>-3.2</td>\n",
       "      <td>-3.000000</td>\n",
       "    </tr>\n",
       "  </tbody>\n",
       "</table>\n",
       "</div>"
      ],
      "text/plain": [
       "                           Ligand Binding Affinity           \n",
       "                                              amin    average\n",
       "0   6LU7_idAAAAgen10_uff_E=112.89             -4.8  -4.511111\n",
       "1   6LU7_idAAAAgen10_uff_E=178.91             -4.7  -4.377778\n",
       "2  6LU7_idAAAAgen11_uff_E=3389.13            -11.0 -10.255556\n",
       "3    6LU7_idAAAAgen11_uff_E=95.55             -4.1  -3.877778\n",
       "4    6LU7_idAAAAgen12_uff_E=-0.64             -3.2  -3.000000"
      ]
     },
     "execution_count": 169,
     "metadata": {},
     "output_type": "execute_result"
    }
   ],
   "source": [
    "new_scores = new_scores.groupby(\"Ligand\").agg({'Binding Affinity': [np.min,np.average]}).reset_index()\n",
    "new_scores.head()"
   ]
  },
  {
   "cell_type": "code",
   "execution_count": 170,
   "metadata": {
    "scrolled": true
   },
   "outputs": [
    {
     "data": {
      "text/html": [
       "<div>\n",
       "<style scoped>\n",
       "    .dataframe tbody tr th:only-of-type {\n",
       "        vertical-align: middle;\n",
       "    }\n",
       "\n",
       "    .dataframe tbody tr th {\n",
       "        vertical-align: top;\n",
       "    }\n",
       "\n",
       "    .dataframe thead tr th {\n",
       "        text-align: left;\n",
       "    }\n",
       "</style>\n",
       "<table border=\"1\" class=\"dataframe\">\n",
       "  <thead>\n",
       "    <tr>\n",
       "      <th></th>\n",
       "      <th>id</th>\n",
       "      <th>gen</th>\n",
       "      <th>score_best</th>\n",
       "      <th>score_avg</th>\n",
       "    </tr>\n",
       "    <tr>\n",
       "      <th></th>\n",
       "      <th></th>\n",
       "      <th></th>\n",
       "      <th></th>\n",
       "      <th></th>\n",
       "    </tr>\n",
       "  </thead>\n",
       "  <tbody>\n",
       "    <tr>\n",
       "      <th>0</th>\n",
       "      <td>AAAA</td>\n",
       "      <td>10</td>\n",
       "      <td>-4.8</td>\n",
       "      <td>-4.511111</td>\n",
       "    </tr>\n",
       "    <tr>\n",
       "      <th>1</th>\n",
       "      <td>AAAA</td>\n",
       "      <td>10</td>\n",
       "      <td>-4.7</td>\n",
       "      <td>-4.377778</td>\n",
       "    </tr>\n",
       "    <tr>\n",
       "      <th>2</th>\n",
       "      <td>AAAA</td>\n",
       "      <td>11</td>\n",
       "      <td>-11.0</td>\n",
       "      <td>-10.255556</td>\n",
       "    </tr>\n",
       "    <tr>\n",
       "      <th>3</th>\n",
       "      <td>AAAA</td>\n",
       "      <td>11</td>\n",
       "      <td>-4.1</td>\n",
       "      <td>-3.877778</td>\n",
       "    </tr>\n",
       "    <tr>\n",
       "      <th>4</th>\n",
       "      <td>AAAA</td>\n",
       "      <td>12</td>\n",
       "      <td>-3.2</td>\n",
       "      <td>-3.000000</td>\n",
       "    </tr>\n",
       "    <tr>\n",
       "      <th>...</th>\n",
       "      <td>...</td>\n",
       "      <td>...</td>\n",
       "      <td>...</td>\n",
       "      <td>...</td>\n",
       "    </tr>\n",
       "    <tr>\n",
       "      <th>21253</th>\n",
       "      <td>ABTC</td>\n",
       "      <td>0</td>\n",
       "      <td>-7.8</td>\n",
       "      <td>-7.088889</td>\n",
       "    </tr>\n",
       "    <tr>\n",
       "      <th>21254</th>\n",
       "      <td>ABTD</td>\n",
       "      <td>0</td>\n",
       "      <td>-6.5</td>\n",
       "      <td>-6.144444</td>\n",
       "    </tr>\n",
       "    <tr>\n",
       "      <th>21255</th>\n",
       "      <td>ABTE</td>\n",
       "      <td>0</td>\n",
       "      <td>-7.9</td>\n",
       "      <td>-7.488889</td>\n",
       "    </tr>\n",
       "    <tr>\n",
       "      <th>21256</th>\n",
       "      <td>ABTF</td>\n",
       "      <td>0</td>\n",
       "      <td>-7.8</td>\n",
       "      <td>-7.477778</td>\n",
       "    </tr>\n",
       "    <tr>\n",
       "      <th>21257</th>\n",
       "      <td>ABTG</td>\n",
       "      <td>0</td>\n",
       "      <td>-7.9</td>\n",
       "      <td>-7.688889</td>\n",
       "    </tr>\n",
       "  </tbody>\n",
       "</table>\n",
       "<p>21258 rows × 4 columns</p>\n",
       "</div>"
      ],
      "text/plain": [
       "         id gen score_best  score_avg\n",
       "                                     \n",
       "0      AAAA  10       -4.8  -4.511111\n",
       "1      AAAA  10       -4.7  -4.377778\n",
       "2      AAAA  11      -11.0 -10.255556\n",
       "3      AAAA  11       -4.1  -3.877778\n",
       "4      AAAA  12       -3.2  -3.000000\n",
       "...     ...  ..        ...        ...\n",
       "21253  ABTC   0       -7.8  -7.088889\n",
       "21254  ABTD   0       -6.5  -6.144444\n",
       "21255  ABTE   0       -7.9  -7.488889\n",
       "21256  ABTF   0       -7.8  -7.477778\n",
       "21257  ABTG   0       -7.9  -7.688889\n",
       "\n",
       "[21258 rows x 4 columns]"
      ]
     },
     "execution_count": 170,
     "metadata": {},
     "output_type": "execute_result"
    }
   ],
   "source": [
    "new_scores['id'] = new_scores['Ligand'].str.split(\"_\").str[1].str.split(\"gen\").str[0].str.split(\"id\").str[1]\n",
    "new_scores['gen'] = new_scores['Ligand'].str.split(\"_\").str[1].str.split(\"gen\").str[1]\n",
    "new_scores['score_best'] = new_scores[\"Binding Affinity\"][\"amin\"]\n",
    "new_scores['score_avg'] = new_scores[\"Binding Affinity\"][\"average\"]\n",
    "new_scores = new_scores[['id','gen','score_best','score_avg']]\n",
    "\n",
    "new_scores.head()\n",
    "new_scores.dropna()"
   ]
  },
  {
   "cell_type": "code",
   "execution_count": 171,
   "metadata": {
    "scrolled": true
   },
   "outputs": [],
   "source": [
    "final_table = final_table[final_table.score != 99.9]"
   ]
  },
  {
   "cell_type": "code",
   "execution_count": 172,
   "metadata": {},
   "outputs": [
    {
     "data": {
      "text/html": [
       "<div>\n",
       "<style scoped>\n",
       "    .dataframe tbody tr th:only-of-type {\n",
       "        vertical-align: middle;\n",
       "    }\n",
       "\n",
       "    .dataframe tbody tr th {\n",
       "        vertical-align: top;\n",
       "    }\n",
       "\n",
       "    .dataframe thead th {\n",
       "        text-align: right;\n",
       "    }\n",
       "</style>\n",
       "<table border=\"1\" class=\"dataframe\">\n",
       "  <thead>\n",
       "    <tr style=\"text-align: right;\">\n",
       "      <th></th>\n",
       "      <th>gen</th>\n",
       "      <th>weight</th>\n",
       "      <th>logp</th>\n",
       "      <th>score</th>\n",
       "    </tr>\n",
       "  </thead>\n",
       "  <tbody>\n",
       "    <tr>\n",
       "      <th>count</th>\n",
       "      <td>16841.000000</td>\n",
       "      <td>16841.000000</td>\n",
       "      <td>16841.000000</td>\n",
       "      <td>16841.000000</td>\n",
       "    </tr>\n",
       "    <tr>\n",
       "      <th>mean</th>\n",
       "      <td>8.623716</td>\n",
       "      <td>525.423376</td>\n",
       "      <td>9.270852</td>\n",
       "      <td>-7.885981</td>\n",
       "    </tr>\n",
       "    <tr>\n",
       "      <th>std</th>\n",
       "      <td>5.603923</td>\n",
       "      <td>443.699514</td>\n",
       "      <td>13.512628</td>\n",
       "      <td>3.205921</td>\n",
       "    </tr>\n",
       "    <tr>\n",
       "      <th>min</th>\n",
       "      <td>0.000000</td>\n",
       "      <td>28.054000</td>\n",
       "      <td>-9.704780</td>\n",
       "      <td>-17.000000</td>\n",
       "    </tr>\n",
       "    <tr>\n",
       "      <th>25%</th>\n",
       "      <td>4.000000</td>\n",
       "      <td>196.250000</td>\n",
       "      <td>1.319800</td>\n",
       "      <td>-10.700000</td>\n",
       "    </tr>\n",
       "    <tr>\n",
       "      <th>50%</th>\n",
       "      <td>9.000000</td>\n",
       "      <td>337.347000</td>\n",
       "      <td>2.575100</td>\n",
       "      <td>-7.000000</td>\n",
       "    </tr>\n",
       "    <tr>\n",
       "      <th>75%</th>\n",
       "      <td>13.000000</td>\n",
       "      <td>691.756000</td>\n",
       "      <td>8.215900</td>\n",
       "      <td>-5.300000</td>\n",
       "    </tr>\n",
       "    <tr>\n",
       "      <th>max</th>\n",
       "      <td>17.000000</td>\n",
       "      <td>1767.402000</td>\n",
       "      <td>49.152600</td>\n",
       "      <td>19.900000</td>\n",
       "    </tr>\n",
       "  </tbody>\n",
       "</table>\n",
       "</div>"
      ],
      "text/plain": [
       "                gen        weight          logp         score\n",
       "count  16841.000000  16841.000000  16841.000000  16841.000000\n",
       "mean       8.623716    525.423376      9.270852     -7.885981\n",
       "std        5.603923    443.699514     13.512628      3.205921\n",
       "min        0.000000     28.054000     -9.704780    -17.000000\n",
       "25%        4.000000    196.250000      1.319800    -10.700000\n",
       "50%        9.000000    337.347000      2.575100     -7.000000\n",
       "75%       13.000000    691.756000      8.215900     -5.300000\n",
       "max       17.000000   1767.402000     49.152600     19.900000"
      ]
     },
     "execution_count": 172,
     "metadata": {},
     "output_type": "execute_result"
    }
   ],
   "source": [
    "final_table.describe()"
   ]
  },
  {
   "cell_type": "code",
   "execution_count": 173,
   "metadata": {
    "scrolled": true
   },
   "outputs": [],
   "source": [
    "new_scores.id = new_scores.id.astype(str)\n",
    "new_scores.gen = new_scores.gen.astype(str)\n",
    "\n",
    "final_table.id = final_table.id.astype(str)\n",
    "final_table.gen = final_table.gen.astype(str)"
   ]
  },
  {
   "cell_type": "code",
   "execution_count": 174,
   "metadata": {
    "scrolled": false
   },
   "outputs": [
    {
     "name": "stderr",
     "output_type": "stream",
     "text": [
      "C:\\Users\\user\\Anaconda3\\envs\\tfv2\\lib\\site-packages\\pandas\\core\\reshape\\merge.py:618: UserWarning: merging between different levels can give an unintended result (1 levels on the left, 2 on the right)\n",
      "  warnings.warn(msg, UserWarning)\n"
     ]
    },
    {
     "data": {
      "text/html": [
       "<div>\n",
       "<style scoped>\n",
       "    .dataframe tbody tr th:only-of-type {\n",
       "        vertical-align: middle;\n",
       "    }\n",
       "\n",
       "    .dataframe tbody tr th {\n",
       "        vertical-align: top;\n",
       "    }\n",
       "\n",
       "    .dataframe thead th {\n",
       "        text-align: right;\n",
       "    }\n",
       "</style>\n",
       "<table border=\"1\" class=\"dataframe\">\n",
       "  <thead>\n",
       "    <tr style=\"text-align: right;\">\n",
       "      <th></th>\n",
       "      <th>id</th>\n",
       "      <th>gen</th>\n",
       "      <th>smile</th>\n",
       "      <th>source</th>\n",
       "      <th>weight</th>\n",
       "      <th>logp</th>\n",
       "      <th>score</th>\n",
       "      <th>score_best</th>\n",
       "      <th>score_avg</th>\n",
       "    </tr>\n",
       "  </thead>\n",
       "  <tbody>\n",
       "    <tr>\n",
       "      <th>0</th>\n",
       "      <td>ACLT</td>\n",
       "      <td>17</td>\n",
       "      <td>CC1CCCCCCCCCCCCCCCCCCCCCCCCCCCCCCCCCCCCCCCC2CC...</td>\n",
       "      <td>generated</td>\n",
       "      <td>1354.571</td>\n",
       "      <td>36.8575</td>\n",
       "      <td>-17.0</td>\n",
       "      <td>-17.0</td>\n",
       "      <td>-16.850</td>\n",
       "    </tr>\n",
       "    <tr>\n",
       "      <th>1</th>\n",
       "      <td>ACDH</td>\n",
       "      <td>17</td>\n",
       "      <td>CC1C=CCCCCCCCCCCCCCCCCCCCCCCCCCCCCCCCCCCCCCCCC...</td>\n",
       "      <td>generated</td>\n",
       "      <td>1470.734</td>\n",
       "      <td>39.2484</td>\n",
       "      <td>-16.9</td>\n",
       "      <td>-16.9</td>\n",
       "      <td>-16.750</td>\n",
       "    </tr>\n",
       "    <tr>\n",
       "      <th>2</th>\n",
       "      <td>ABKH</td>\n",
       "      <td>16</td>\n",
       "      <td>CC1CCCCCCCCCCCCCCCCCCCCCCCCCCCCCCCCCCCCCCC2CCC...</td>\n",
       "      <td>generated</td>\n",
       "      <td>1338.443</td>\n",
       "      <td>35.0655</td>\n",
       "      <td>-16.8</td>\n",
       "      <td>-16.8</td>\n",
       "      <td>-15.175</td>\n",
       "    </tr>\n",
       "    <tr>\n",
       "      <th>3</th>\n",
       "      <td>ACLV</td>\n",
       "      <td>17</td>\n",
       "      <td>CC1CCCCCCCCCCCCCCCCCCCCCCCCCCCCCCCCCCCCCCC2CCC...</td>\n",
       "      <td>generated</td>\n",
       "      <td>1298.463</td>\n",
       "      <td>35.2971</td>\n",
       "      <td>-16.8</td>\n",
       "      <td>-16.8</td>\n",
       "      <td>-16.750</td>\n",
       "    </tr>\n",
       "    <tr>\n",
       "      <th>4</th>\n",
       "      <td>ABWF</td>\n",
       "      <td>16</td>\n",
       "      <td>CC1CCCCCCCCCCCCCCCCCCCCCCCCCCCCCCCCCCCCCCCC2CC...</td>\n",
       "      <td>generated</td>\n",
       "      <td>1342.390</td>\n",
       "      <td>34.3356</td>\n",
       "      <td>-16.7</td>\n",
       "      <td>-16.7</td>\n",
       "      <td>-16.300</td>\n",
       "    </tr>\n",
       "  </tbody>\n",
       "</table>\n",
       "</div>"
      ],
      "text/plain": [
       "     id gen                                              smile     source  \\\n",
       "0  ACLT  17  CC1CCCCCCCCCCCCCCCCCCCCCCCCCCCCCCCCCCCCCCCC2CC...  generated   \n",
       "1  ACDH  17  CC1C=CCCCCCCCCCCCCCCCCCCCCCCCCCCCCCCCCCCCCCCCC...  generated   \n",
       "2  ABKH  16  CC1CCCCCCCCCCCCCCCCCCCCCCCCCCCCCCCCCCCCCCC2CCC...  generated   \n",
       "3  ACLV  17  CC1CCCCCCCCCCCCCCCCCCCCCCCCCCCCCCCCCCCCCCC2CCC...  generated   \n",
       "4  ABWF  16  CC1CCCCCCCCCCCCCCCCCCCCCCCCCCCCCCCCCCCCCCCC2CC...  generated   \n",
       "\n",
       "     weight     logp  score  score_best  score_avg  \n",
       "0  1354.571  36.8575  -17.0       -17.0    -16.850  \n",
       "1  1470.734  39.2484  -16.9       -16.9    -16.750  \n",
       "2  1338.443  35.0655  -16.8       -16.8    -15.175  \n",
       "3  1298.463  35.2971  -16.8       -16.8    -16.750  \n",
       "4  1342.390  34.3356  -16.7       -16.7    -16.300  "
      ]
     },
     "execution_count": 174,
     "metadata": {},
     "output_type": "execute_result"
    }
   ],
   "source": [
    "new_table = pd.merge(final_table, new_scores, on=['id','gen'], suffixes=('_old','_new'), how='left')\n",
    "new_table['score_best'] = new_table[('score_best', '')]\n",
    "new_table['score_avg'] = new_table[('score_avg', '')]\n",
    "\n",
    "new_table = new_table.drop([('score_best', ''),('score_avg', '')], axis=1)\n",
    "new_table = new_table.sort_values('score_best', ascending=True)\n",
    "\n",
    "new_table.dropna()\n",
    "new_table.head()"
   ]
  },
  {
   "cell_type": "code",
   "execution_count": 175,
   "metadata": {
    "scrolled": false
   },
   "outputs": [
    {
     "name": "stderr",
     "output_type": "stream",
     "text": [
      "C:\\Users\\user\\Anaconda3\\envs\\tfv2\\lib\\site-packages\\pandas\\core\\reshape\\merge.py:618: UserWarning: merging between different levels can give an unintended result (1 levels on the left, 2 on the right)\n",
      "  warnings.warn(msg, UserWarning)\n"
     ]
    },
    {
     "data": {
      "text/html": [
       "<div>\n",
       "<style scoped>\n",
       "    .dataframe tbody tr th:only-of-type {\n",
       "        vertical-align: middle;\n",
       "    }\n",
       "\n",
       "    .dataframe tbody tr th {\n",
       "        vertical-align: top;\n",
       "    }\n",
       "\n",
       "    .dataframe thead th {\n",
       "        text-align: right;\n",
       "    }\n",
       "</style>\n",
       "<table border=\"1\" class=\"dataframe\">\n",
       "  <thead>\n",
       "    <tr style=\"text-align: right;\">\n",
       "      <th></th>\n",
       "      <th>id</th>\n",
       "      <th>gen</th>\n",
       "      <th>smile</th>\n",
       "      <th>source</th>\n",
       "      <th>weight</th>\n",
       "      <th>logp</th>\n",
       "      <th>score</th>\n",
       "      <th>score_best</th>\n",
       "      <th>score_avg</th>\n",
       "    </tr>\n",
       "  </thead>\n",
       "  <tbody>\n",
       "    <tr>\n",
       "      <th>0</th>\n",
       "      <td>ACLT</td>\n",
       "      <td>17</td>\n",
       "      <td>CC1CCCCCCCCCCCCCCCCCCCCCCCCCCCCCCCCCCCCCCCC2CC...</td>\n",
       "      <td>generated</td>\n",
       "      <td>1354.571</td>\n",
       "      <td>36.8575</td>\n",
       "      <td>-17.0</td>\n",
       "      <td>-17.0</td>\n",
       "      <td>-16.850000</td>\n",
       "    </tr>\n",
       "    <tr>\n",
       "      <th>1</th>\n",
       "      <td>ACDH</td>\n",
       "      <td>17</td>\n",
       "      <td>CC1C=CCCCCCCCCCCCCCCCCCCCCCCCCCCCCCCCCCCCCCCCC...</td>\n",
       "      <td>generated</td>\n",
       "      <td>1470.734</td>\n",
       "      <td>39.2484</td>\n",
       "      <td>-16.9</td>\n",
       "      <td>-16.9</td>\n",
       "      <td>-16.750000</td>\n",
       "    </tr>\n",
       "    <tr>\n",
       "      <th>2</th>\n",
       "      <td>ABKH</td>\n",
       "      <td>16</td>\n",
       "      <td>CC1CCCCCCCCCCCCCCCCCCCCCCCCCCCCCCCCCCCCCCC2CCC...</td>\n",
       "      <td>generated</td>\n",
       "      <td>1338.443</td>\n",
       "      <td>35.0655</td>\n",
       "      <td>-16.8</td>\n",
       "      <td>-16.8</td>\n",
       "      <td>-15.175000</td>\n",
       "    </tr>\n",
       "    <tr>\n",
       "      <th>3</th>\n",
       "      <td>ACLV</td>\n",
       "      <td>17</td>\n",
       "      <td>CC1CCCCCCCCCCCCCCCCCCCCCCCCCCCCCCCCCCCCCCC2CCC...</td>\n",
       "      <td>generated</td>\n",
       "      <td>1298.463</td>\n",
       "      <td>35.2971</td>\n",
       "      <td>-16.8</td>\n",
       "      <td>-16.8</td>\n",
       "      <td>-16.750000</td>\n",
       "    </tr>\n",
       "    <tr>\n",
       "      <th>4</th>\n",
       "      <td>ABWF</td>\n",
       "      <td>16</td>\n",
       "      <td>CC1CCCCCCCCCCCCCCCCCCCCCCCCCCCCCCCCCCCCCCCC2CC...</td>\n",
       "      <td>generated</td>\n",
       "      <td>1342.390</td>\n",
       "      <td>34.3356</td>\n",
       "      <td>-16.7</td>\n",
       "      <td>-16.7</td>\n",
       "      <td>-16.300000</td>\n",
       "    </tr>\n",
       "    <tr>\n",
       "      <th>...</th>\n",
       "      <td>...</td>\n",
       "      <td>...</td>\n",
       "      <td>...</td>\n",
       "      <td>...</td>\n",
       "      <td>...</td>\n",
       "      <td>...</td>\n",
       "      <td>...</td>\n",
       "      <td>...</td>\n",
       "      <td>...</td>\n",
       "    </tr>\n",
       "    <tr>\n",
       "      <th>100</th>\n",
       "      <td>AAON</td>\n",
       "      <td>15</td>\n",
       "      <td>CC1CCCCCCCCCCCCCCCCCCCCCCCCCCCCCCCCCCCCCCCCCCC...</td>\n",
       "      <td>generated</td>\n",
       "      <td>1258.313</td>\n",
       "      <td>33.1729</td>\n",
       "      <td>-15.1</td>\n",
       "      <td>-15.1</td>\n",
       "      <td>-13.375000</td>\n",
       "    </tr>\n",
       "    <tr>\n",
       "      <th>98</th>\n",
       "      <td>ACAH</td>\n",
       "      <td>16</td>\n",
       "      <td>CC1CCCCCCCCCCCCCCCCCCCCCCCCCCCCCCCCCCCCCCCCCCC...</td>\n",
       "      <td>generated</td>\n",
       "      <td>1318.283</td>\n",
       "      <td>32.8255</td>\n",
       "      <td>-15.1</td>\n",
       "      <td>-15.1</td>\n",
       "      <td>-13.014286</td>\n",
       "    </tr>\n",
       "    <tr>\n",
       "      <th>92</th>\n",
       "      <td>AAIR</td>\n",
       "      <td>12</td>\n",
       "      <td>CC1CCCCCCCCCCCCCCCCCCCCCCCCCCCCCCCCCCCCCCCCCCC...</td>\n",
       "      <td>generated</td>\n",
       "      <td>1324.501</td>\n",
       "      <td>35.8533</td>\n",
       "      <td>-15.1</td>\n",
       "      <td>-15.1</td>\n",
       "      <td>-13.366667</td>\n",
       "    </tr>\n",
       "    <tr>\n",
       "      <th>96</th>\n",
       "      <td>ACOV</td>\n",
       "      <td>17</td>\n",
       "      <td>CC1CCCCCCCCCCCCCCCCCCCCCCCCCCCCCCCCCCCCCCCCCCC...</td>\n",
       "      <td>generated</td>\n",
       "      <td>1490.724</td>\n",
       "      <td>39.5350</td>\n",
       "      <td>-15.1</td>\n",
       "      <td>-15.1</td>\n",
       "      <td>-13.200000</td>\n",
       "    </tr>\n",
       "    <tr>\n",
       "      <th>95</th>\n",
       "      <td>AAYN</td>\n",
       "      <td>16</td>\n",
       "      <td>CC1CCCCCCCCCCCCCCCCCCCCCCCCCCCCCCCCCCCCCCCCCCC...</td>\n",
       "      <td>generated</td>\n",
       "      <td>1532.805</td>\n",
       "      <td>40.7053</td>\n",
       "      <td>-15.1</td>\n",
       "      <td>-15.1</td>\n",
       "      <td>-13.071429</td>\n",
       "    </tr>\n",
       "  </tbody>\n",
       "</table>\n",
       "<p>100 rows × 9 columns</p>\n",
       "</div>"
      ],
      "text/plain": [
       "       id gen                                              smile     source  \\\n",
       "0    ACLT  17  CC1CCCCCCCCCCCCCCCCCCCCCCCCCCCCCCCCCCCCCCCC2CC...  generated   \n",
       "1    ACDH  17  CC1C=CCCCCCCCCCCCCCCCCCCCCCCCCCCCCCCCCCCCCCCCC...  generated   \n",
       "2    ABKH  16  CC1CCCCCCCCCCCCCCCCCCCCCCCCCCCCCCCCCCCCCCC2CCC...  generated   \n",
       "3    ACLV  17  CC1CCCCCCCCCCCCCCCCCCCCCCCCCCCCCCCCCCCCCCC2CCC...  generated   \n",
       "4    ABWF  16  CC1CCCCCCCCCCCCCCCCCCCCCCCCCCCCCCCCCCCCCCCC2CC...  generated   \n",
       "..    ...  ..                                                ...        ...   \n",
       "100  AAON  15  CC1CCCCCCCCCCCCCCCCCCCCCCCCCCCCCCCCCCCCCCCCCCC...  generated   \n",
       "98   ACAH  16  CC1CCCCCCCCCCCCCCCCCCCCCCCCCCCCCCCCCCCCCCCCCCC...  generated   \n",
       "92   AAIR  12  CC1CCCCCCCCCCCCCCCCCCCCCCCCCCCCCCCCCCCCCCCCCCC...  generated   \n",
       "96   ACOV  17  CC1CCCCCCCCCCCCCCCCCCCCCCCCCCCCCCCCCCCCCCCCCCC...  generated   \n",
       "95   AAYN  16  CC1CCCCCCCCCCCCCCCCCCCCCCCCCCCCCCCCCCCCCCCCCCC...  generated   \n",
       "\n",
       "       weight     logp  score  score_best  score_avg  \n",
       "0    1354.571  36.8575  -17.0       -17.0 -16.850000  \n",
       "1    1470.734  39.2484  -16.9       -16.9 -16.750000  \n",
       "2    1338.443  35.0655  -16.8       -16.8 -15.175000  \n",
       "3    1298.463  35.2971  -16.8       -16.8 -16.750000  \n",
       "4    1342.390  34.3356  -16.7       -16.7 -16.300000  \n",
       "..        ...      ...    ...         ...        ...  \n",
       "100  1258.313  33.1729  -15.1       -15.1 -13.375000  \n",
       "98   1318.283  32.8255  -15.1       -15.1 -13.014286  \n",
       "92   1324.501  35.8533  -15.1       -15.1 -13.366667  \n",
       "96   1490.724  39.5350  -15.1       -15.1 -13.200000  \n",
       "95   1532.805  40.7053  -15.1       -15.1 -13.071429  \n",
       "\n",
       "[100 rows x 9 columns]"
      ]
     },
     "execution_count": 175,
     "metadata": {},
     "output_type": "execute_result"
    }
   ],
   "source": [
    "new_table = pd.merge(final_table, new_scores, on=['id','gen'], suffixes=('_old','_new'), how='left')\n",
    "\n",
    "new_table['score_best'] = new_table[('score_best', '')]\n",
    "new_table['score_avg'] = new_table[('score_avg', '')]\n",
    "\n",
    "new_table = new_table.drop([('score_best', ''),('score_avg', '')], axis=1)\n",
    "new_table = new_table.sort_values('score_best', ascending=True)\n",
    "\n",
    "new_table.dropna()\n",
    "new_table.head(100)"
   ]
  },
  {
   "cell_type": "code",
   "execution_count": 176,
   "metadata": {
    "scrolled": true
   },
   "outputs": [
    {
     "data": {
      "text/plain": [
       "array(['17', '16', '15', '11', '12', '10', '14', '13', '9', '8', '6', '5',\n",
       "       '4', '2', '3', '0', '1', '7'], dtype=object)"
      ]
     },
     "execution_count": 176,
     "metadata": {},
     "output_type": "execute_result"
    }
   ],
   "source": [
    "new_table.gen.unique()"
   ]
  },
  {
   "cell_type": "code",
   "execution_count": 177,
   "metadata": {},
   "outputs": [
    {
     "data": {
      "text/html": [
       "<div>\n",
       "<style scoped>\n",
       "    .dataframe tbody tr th:only-of-type {\n",
       "        vertical-align: middle;\n",
       "    }\n",
       "\n",
       "    .dataframe tbody tr th {\n",
       "        vertical-align: top;\n",
       "    }\n",
       "\n",
       "    .dataframe thead th {\n",
       "        text-align: right;\n",
       "    }\n",
       "</style>\n",
       "<table border=\"1\" class=\"dataframe\">\n",
       "  <thead>\n",
       "    <tr style=\"text-align: right;\">\n",
       "      <th></th>\n",
       "      <th>id</th>\n",
       "      <th>gen</th>\n",
       "      <th>smile</th>\n",
       "      <th>source</th>\n",
       "      <th>weight</th>\n",
       "      <th>logp</th>\n",
       "      <th>score</th>\n",
       "      <th>score_best</th>\n",
       "      <th>score_avg</th>\n",
       "    </tr>\n",
       "  </thead>\n",
       "  <tbody>\n",
       "    <tr>\n",
       "      <th>13</th>\n",
       "      <td>ABEO</td>\n",
       "      <td>15</td>\n",
       "      <td>CC1CCCCCCCCCCCCCCCCCCCCCCCCCCCCCCCCCCCCCCCCCCC...</td>\n",
       "      <td>generated</td>\n",
       "      <td>1448.643</td>\n",
       "      <td>37.96230</td>\n",
       "      <td>-16.2</td>\n",
       "      <td>-16.2</td>\n",
       "      <td>-16.000000</td>\n",
       "    </tr>\n",
       "    <tr>\n",
       "      <th>11</th>\n",
       "      <td>ABSQ</td>\n",
       "      <td>15</td>\n",
       "      <td>CC1CCCCCCCCCCCCCCCCCCCCCCCCCCCCCCCCCCCCCCCCCCC...</td>\n",
       "      <td>generated</td>\n",
       "      <td>1374.561</td>\n",
       "      <td>36.74170</td>\n",
       "      <td>-16.2</td>\n",
       "      <td>-16.2</td>\n",
       "      <td>-15.850000</td>\n",
       "    </tr>\n",
       "    <tr>\n",
       "      <th>26</th>\n",
       "      <td>AAHJ</td>\n",
       "      <td>15</td>\n",
       "      <td>CC1CCCCCCCCCCCCCCCCCCCCCCCCCCCCCCCCCCCCCCCCCCC...</td>\n",
       "      <td>generated</td>\n",
       "      <td>1362.550</td>\n",
       "      <td>36.57560</td>\n",
       "      <td>-15.8</td>\n",
       "      <td>-15.8</td>\n",
       "      <td>-14.000000</td>\n",
       "    </tr>\n",
       "    <tr>\n",
       "      <th>44</th>\n",
       "      <td>AALF</td>\n",
       "      <td>15</td>\n",
       "      <td>CC1CCCCCCCCCCCCCCCCCCCCCCCCCCCCCCCCCCCCCCCCCCC...</td>\n",
       "      <td>generated</td>\n",
       "      <td>1316.437</td>\n",
       "      <td>34.95730</td>\n",
       "      <td>-15.6</td>\n",
       "      <td>-15.6</td>\n",
       "      <td>-14.133333</td>\n",
       "    </tr>\n",
       "    <tr>\n",
       "      <th>41</th>\n",
       "      <td>ABZD</td>\n",
       "      <td>15</td>\n",
       "      <td>CC1CCCCCCCCCCCCCCCCCCCCCCCCCCCCCCCCCCCCCCCCC2C...</td>\n",
       "      <td>generated</td>\n",
       "      <td>1488.708</td>\n",
       "      <td>39.08860</td>\n",
       "      <td>-15.6</td>\n",
       "      <td>-15.6</td>\n",
       "      <td>-15.600000</td>\n",
       "    </tr>\n",
       "    <tr>\n",
       "      <th>...</th>\n",
       "      <td>...</td>\n",
       "      <td>...</td>\n",
       "      <td>...</td>\n",
       "      <td>...</td>\n",
       "      <td>...</td>\n",
       "      <td>...</td>\n",
       "      <td>...</td>\n",
       "      <td>...</td>\n",
       "      <td>...</td>\n",
       "    </tr>\n",
       "    <tr>\n",
       "      <th>16747</th>\n",
       "      <td>AACC</td>\n",
       "      <td>15</td>\n",
       "      <td>C#CC#CC</td>\n",
       "      <td>generated</td>\n",
       "      <td>64.087</td>\n",
       "      <td>0.64290</td>\n",
       "      <td>-3.1</td>\n",
       "      <td>-3.1</td>\n",
       "      <td>-2.811111</td>\n",
       "    </tr>\n",
       "    <tr>\n",
       "      <th>16838</th>\n",
       "      <td>ABPM</td>\n",
       "      <td>15</td>\n",
       "      <td>CC#CC</td>\n",
       "      <td>generated</td>\n",
       "      <td>54.092</td>\n",
       "      <td>1.02960</td>\n",
       "      <td>-2.7</td>\n",
       "      <td>-2.7</td>\n",
       "      <td>-2.566667</td>\n",
       "    </tr>\n",
       "    <tr>\n",
       "      <th>16841</th>\n",
       "      <td>AALD</td>\n",
       "      <td>15</td>\n",
       "      <td>C#CC#CC#CC#CC#CC#CC#CC#CC#CC#CC#CC#CC#CC#CC#CC...</td>\n",
       "      <td>generated</td>\n",
       "      <td>511.498</td>\n",
       "      <td>1.59398</td>\n",
       "      <td>-2.6</td>\n",
       "      <td>-2.6</td>\n",
       "      <td>-2.444444</td>\n",
       "    </tr>\n",
       "    <tr>\n",
       "      <th>16886</th>\n",
       "      <td>AAVX</td>\n",
       "      <td>15</td>\n",
       "      <td>C#CC#CC#CC#CC#CC#CC#CC#CC#CC#CC#CC#CC#CC#CC#CC...</td>\n",
       "      <td>generated</td>\n",
       "      <td>616.593</td>\n",
       "      <td>1.34570</td>\n",
       "      <td>-2.3</td>\n",
       "      <td>-2.3</td>\n",
       "      <td>-2.122222</td>\n",
       "    </tr>\n",
       "    <tr>\n",
       "      <th>16916</th>\n",
       "      <td>ABUY</td>\n",
       "      <td>15</td>\n",
       "      <td>C#CC#CC#CC#CC#CC#CC#CC#CC#CC#CC#CC#CC#CC#CC#CC...</td>\n",
       "      <td>generated</td>\n",
       "      <td>655.630</td>\n",
       "      <td>1.61438</td>\n",
       "      <td>-1.8</td>\n",
       "      <td>-1.8</td>\n",
       "      <td>-1.644444</td>\n",
       "    </tr>\n",
       "  </tbody>\n",
       "</table>\n",
       "<p>329 rows × 9 columns</p>\n",
       "</div>"
      ],
      "text/plain": [
       "         id gen                                              smile     source  \\\n",
       "13     ABEO  15  CC1CCCCCCCCCCCCCCCCCCCCCCCCCCCCCCCCCCCCCCCCCCC...  generated   \n",
       "11     ABSQ  15  CC1CCCCCCCCCCCCCCCCCCCCCCCCCCCCCCCCCCCCCCCCCCC...  generated   \n",
       "26     AAHJ  15  CC1CCCCCCCCCCCCCCCCCCCCCCCCCCCCCCCCCCCCCCCCCCC...  generated   \n",
       "44     AALF  15  CC1CCCCCCCCCCCCCCCCCCCCCCCCCCCCCCCCCCCCCCCCCCC...  generated   \n",
       "41     ABZD  15  CC1CCCCCCCCCCCCCCCCCCCCCCCCCCCCCCCCCCCCCCCCC2C...  generated   \n",
       "...     ...  ..                                                ...        ...   \n",
       "16747  AACC  15                                            C#CC#CC  generated   \n",
       "16838  ABPM  15                                              CC#CC  generated   \n",
       "16841  AALD  15  C#CC#CC#CC#CC#CC#CC#CC#CC#CC#CC#CC#CC#CC#CC#CC...  generated   \n",
       "16886  AAVX  15  C#CC#CC#CC#CC#CC#CC#CC#CC#CC#CC#CC#CC#CC#CC#CC...  generated   \n",
       "16916  ABUY  15  C#CC#CC#CC#CC#CC#CC#CC#CC#CC#CC#CC#CC#CC#CC#CC...  generated   \n",
       "\n",
       "         weight      logp  score  score_best  score_avg  \n",
       "13     1448.643  37.96230  -16.2       -16.2 -16.000000  \n",
       "11     1374.561  36.74170  -16.2       -16.2 -15.850000  \n",
       "26     1362.550  36.57560  -15.8       -15.8 -14.000000  \n",
       "44     1316.437  34.95730  -15.6       -15.6 -14.133333  \n",
       "41     1488.708  39.08860  -15.6       -15.6 -15.600000  \n",
       "...         ...       ...    ...         ...        ...  \n",
       "16747    64.087   0.64290   -3.1        -3.1  -2.811111  \n",
       "16838    54.092   1.02960   -2.7        -2.7  -2.566667  \n",
       "16841   511.498   1.59398   -2.6        -2.6  -2.444444  \n",
       "16886   616.593   1.34570   -2.3        -2.3  -2.122222  \n",
       "16916   655.630   1.61438   -1.8        -1.8  -1.644444  \n",
       "\n",
       "[329 rows x 9 columns]"
      ]
     },
     "execution_count": 177,
     "metadata": {},
     "output_type": "execute_result"
    }
   ],
   "source": [
    "new_table[new_table.gen == '15']"
   ]
  },
  {
   "cell_type": "code",
   "execution_count": 178,
   "metadata": {
    "scrolled": true
   },
   "outputs": [
    {
     "data": {
      "text/plain": [
       "Index(['id', 'gen', 'smile', 'source', 'weight', 'logp', 'score', 'score_best',\n",
       "       'score_avg'],\n",
       "      dtype='object')"
      ]
     },
     "execution_count": 178,
     "metadata": {},
     "output_type": "execute_result"
    }
   ],
   "source": [
    "new_table.columns"
   ]
  },
  {
   "cell_type": "code",
   "execution_count": 179,
   "metadata": {
    "scrolled": false
   },
   "outputs": [
    {
     "data": {
      "text/html": [
       "<div>\n",
       "<style scoped>\n",
       "    .dataframe tbody tr th:only-of-type {\n",
       "        vertical-align: middle;\n",
       "    }\n",
       "\n",
       "    .dataframe tbody tr th {\n",
       "        vertical-align: top;\n",
       "    }\n",
       "\n",
       "    .dataframe thead th {\n",
       "        text-align: right;\n",
       "    }\n",
       "</style>\n",
       "<table border=\"1\" class=\"dataframe\">\n",
       "  <thead>\n",
       "    <tr style=\"text-align: right;\">\n",
       "      <th></th>\n",
       "      <th>id</th>\n",
       "      <th>gen</th>\n",
       "      <th>smile</th>\n",
       "      <th>source</th>\n",
       "      <th>weight</th>\n",
       "      <th>logp</th>\n",
       "      <th>score</th>\n",
       "      <th>score_best</th>\n",
       "      <th>score_avg</th>\n",
       "      <th>similarity_to_hiv_inhibitors</th>\n",
       "      <th>similarity_to_remdesivir</th>\n",
       "    </tr>\n",
       "  </thead>\n",
       "  <tbody>\n",
       "    <tr>\n",
       "      <th>0</th>\n",
       "      <td>ACLT</td>\n",
       "      <td>17</td>\n",
       "      <td>CC1CCCCCCCCCCCCCCCCCCCCCCCCCCCCCCCCCCCCCCCC2CC...</td>\n",
       "      <td>generated</td>\n",
       "      <td>1354.571</td>\n",
       "      <td>36.8575</td>\n",
       "      <td>-17.0</td>\n",
       "      <td>-17.0</td>\n",
       "      <td>-16.850</td>\n",
       "      <td>0.081490</td>\n",
       "      <td>0.080984</td>\n",
       "    </tr>\n",
       "    <tr>\n",
       "      <th>1</th>\n",
       "      <td>ACDH</td>\n",
       "      <td>17</td>\n",
       "      <td>CC1C=CCCCCCCCCCCCCCCCCCCCCCCCCCCCCCCCCCCCCCCCC...</td>\n",
       "      <td>generated</td>\n",
       "      <td>1470.734</td>\n",
       "      <td>39.2484</td>\n",
       "      <td>-16.9</td>\n",
       "      <td>-16.9</td>\n",
       "      <td>-16.750</td>\n",
       "      <td>0.106623</td>\n",
       "      <td>0.102915</td>\n",
       "    </tr>\n",
       "    <tr>\n",
       "      <th>2</th>\n",
       "      <td>ABKH</td>\n",
       "      <td>16</td>\n",
       "      <td>CC1CCCCCCCCCCCCCCCCCCCCCCCCCCCCCCCCCCCCCCC2CCC...</td>\n",
       "      <td>generated</td>\n",
       "      <td>1338.443</td>\n",
       "      <td>35.0655</td>\n",
       "      <td>-16.8</td>\n",
       "      <td>-16.8</td>\n",
       "      <td>-15.175</td>\n",
       "      <td>0.086704</td>\n",
       "      <td>0.085629</td>\n",
       "    </tr>\n",
       "    <tr>\n",
       "      <th>3</th>\n",
       "      <td>ACLV</td>\n",
       "      <td>17</td>\n",
       "      <td>CC1CCCCCCCCCCCCCCCCCCCCCCCCCCCCCCCCCCCCCCC2CCC...</td>\n",
       "      <td>generated</td>\n",
       "      <td>1298.463</td>\n",
       "      <td>35.2971</td>\n",
       "      <td>-16.8</td>\n",
       "      <td>-16.8</td>\n",
       "      <td>-16.750</td>\n",
       "      <td>0.081490</td>\n",
       "      <td>0.080984</td>\n",
       "    </tr>\n",
       "    <tr>\n",
       "      <th>4</th>\n",
       "      <td>ABWF</td>\n",
       "      <td>16</td>\n",
       "      <td>CC1CCCCCCCCCCCCCCCCCCCCCCCCCCCCCCCCCCCCCCCC2CC...</td>\n",
       "      <td>generated</td>\n",
       "      <td>1342.390</td>\n",
       "      <td>34.3356</td>\n",
       "      <td>-16.7</td>\n",
       "      <td>-16.7</td>\n",
       "      <td>-16.300</td>\n",
       "      <td>0.086704</td>\n",
       "      <td>0.085629</td>\n",
       "    </tr>\n",
       "    <tr>\n",
       "      <th>15645</th>\n",
       "      <td>AAAQ</td>\n",
       "      <td>17</td>\n",
       "      <td>CC1CCCCCCCCCCCCCCCCCCCCCCCCCCCCCCCCCCC2CCCCCCC...</td>\n",
       "      <td>generated</td>\n",
       "      <td>1322.400</td>\n",
       "      <td>34.6314</td>\n",
       "      <td>-4.1</td>\n",
       "      <td>-16.6</td>\n",
       "      <td>-16.350</td>\n",
       "      <td>0.266784</td>\n",
       "      <td>0.278286</td>\n",
       "    </tr>\n",
       "    <tr>\n",
       "      <th>6</th>\n",
       "      <td>AAAQ</td>\n",
       "      <td>17</td>\n",
       "      <td>FC#Cc1ccccn1</td>\n",
       "      <td>genetic_algorithm</td>\n",
       "      <td>121.114</td>\n",
       "      <td>1.3601</td>\n",
       "      <td>-16.6</td>\n",
       "      <td>-16.6</td>\n",
       "      <td>-16.350</td>\n",
       "      <td>0.076895</td>\n",
       "      <td>0.074985</td>\n",
       "    </tr>\n",
       "    <tr>\n",
       "      <th>15647</th>\n",
       "      <td>AAAQ</td>\n",
       "      <td>17</td>\n",
       "      <td>FC#Cc1ccccn1</td>\n",
       "      <td>genetic_algorithm</td>\n",
       "      <td>121.114</td>\n",
       "      <td>1.3601</td>\n",
       "      <td>-4.1</td>\n",
       "      <td>-16.6</td>\n",
       "      <td>-16.350</td>\n",
       "      <td>0.076895</td>\n",
       "      <td>0.074985</td>\n",
       "    </tr>\n",
       "    <tr>\n",
       "      <th>8</th>\n",
       "      <td>AAAQ</td>\n",
       "      <td>17</td>\n",
       "      <td>CC1CCCCCCCCCCCCCCCCCCCCCCCCCCCCCCCCCCC2CCCCCCC...</td>\n",
       "      <td>generated</td>\n",
       "      <td>1322.400</td>\n",
       "      <td>34.6314</td>\n",
       "      <td>-16.6</td>\n",
       "      <td>-16.6</td>\n",
       "      <td>-16.350</td>\n",
       "      <td>0.266784</td>\n",
       "      <td>0.278286</td>\n",
       "    </tr>\n",
       "    <tr>\n",
       "      <th>9</th>\n",
       "      <td>AAWZ</td>\n",
       "      <td>16</td>\n",
       "      <td>CC1CCCCCCCCCCCCCCCCCCCCCCCCCCCCCCCCCCCCCCCCCCC...</td>\n",
       "      <td>generated</td>\n",
       "      <td>1334.326</td>\n",
       "      <td>33.6196</td>\n",
       "      <td>-16.5</td>\n",
       "      <td>-16.5</td>\n",
       "      <td>-15.700</td>\n",
       "      <td>0.266784</td>\n",
       "      <td>0.278286</td>\n",
       "    </tr>\n",
       "  </tbody>\n",
       "</table>\n",
       "</div>"
      ],
      "text/plain": [
       "         id gen                                              smile  \\\n",
       "0      ACLT  17  CC1CCCCCCCCCCCCCCCCCCCCCCCCCCCCCCCCCCCCCCCC2CC...   \n",
       "1      ACDH  17  CC1C=CCCCCCCCCCCCCCCCCCCCCCCCCCCCCCCCCCCCCCCCC...   \n",
       "2      ABKH  16  CC1CCCCCCCCCCCCCCCCCCCCCCCCCCCCCCCCCCCCCCC2CCC...   \n",
       "3      ACLV  17  CC1CCCCCCCCCCCCCCCCCCCCCCCCCCCCCCCCCCCCCCC2CCC...   \n",
       "4      ABWF  16  CC1CCCCCCCCCCCCCCCCCCCCCCCCCCCCCCCCCCCCCCCC2CC...   \n",
       "15645  AAAQ  17  CC1CCCCCCCCCCCCCCCCCCCCCCCCCCCCCCCCCCC2CCCCCCC...   \n",
       "6      AAAQ  17                                       FC#Cc1ccccn1   \n",
       "15647  AAAQ  17                                       FC#Cc1ccccn1   \n",
       "8      AAAQ  17  CC1CCCCCCCCCCCCCCCCCCCCCCCCCCCCCCCCCCC2CCCCCCC...   \n",
       "9      AAWZ  16  CC1CCCCCCCCCCCCCCCCCCCCCCCCCCCCCCCCCCCCCCCCCCC...   \n",
       "\n",
       "                  source    weight     logp  score  score_best  score_avg  \\\n",
       "0              generated  1354.571  36.8575  -17.0       -17.0    -16.850   \n",
       "1              generated  1470.734  39.2484  -16.9       -16.9    -16.750   \n",
       "2              generated  1338.443  35.0655  -16.8       -16.8    -15.175   \n",
       "3              generated  1298.463  35.2971  -16.8       -16.8    -16.750   \n",
       "4              generated  1342.390  34.3356  -16.7       -16.7    -16.300   \n",
       "15645          generated  1322.400  34.6314   -4.1       -16.6    -16.350   \n",
       "6      genetic_algorithm   121.114   1.3601  -16.6       -16.6    -16.350   \n",
       "15647  genetic_algorithm   121.114   1.3601   -4.1       -16.6    -16.350   \n",
       "8              generated  1322.400  34.6314  -16.6       -16.6    -16.350   \n",
       "9              generated  1334.326  33.6196  -16.5       -16.5    -15.700   \n",
       "\n",
       "       similarity_to_hiv_inhibitors  similarity_to_remdesivir  \n",
       "0                          0.081490                  0.080984  \n",
       "1                          0.106623                  0.102915  \n",
       "2                          0.086704                  0.085629  \n",
       "3                          0.081490                  0.080984  \n",
       "4                          0.086704                  0.085629  \n",
       "15645                      0.266784                  0.278286  \n",
       "6                          0.076895                  0.074985  \n",
       "15647                      0.076895                  0.074985  \n",
       "8                          0.266784                  0.278286  \n",
       "9                          0.266784                  0.278286  "
      ]
     },
     "execution_count": 179,
     "metadata": {},
     "output_type": "execute_result"
    }
   ],
   "source": [
    "# Add HIV inhibitors manually into the table\n",
    "hiv_smiles = pd.read_csv('./datasets/hiv_inhibitors_cleaned.smi',sep=',', header=None)\n",
    "hiv_smiles_list = list(hiv_smiles[0])\n",
    "hiv_fingerprints = []\n",
    "\n",
    "for smile in hiv_smiles_list:\n",
    "    hiv_fingerprints.append(Chem.RDKFingerprint(Chem.MolFromSmiles(smile)))\n",
    "\n",
    "def calc_hiv_similarity_score(row):\n",
    "    fingerprint = Chem.RDKFingerprint(Chem.MolFromSmiles(row['smile']))\n",
    "    similarity = np.mean(DataStructs.BulkTanimotoSimilarity(fingerprint,hiv_fingerprints))\n",
    "    return similarity\n",
    "\n",
    "remdesivir_fingerprint = Chem.RDKFingerprint(Chem.MolFromSmiles('CCC(CC)COC(=O)[C@H](C)NP(=O)(OC[C@H]1O[C@](C#N)([C@H](O)[C@@H]1O)C1=CC=C2N1N=CN=C2N)OC1=CC=CC=C1'))\n",
    "\n",
    "new_table['similarity_to_hiv_inhibitors'] = new_table.apply(calc_hiv_similarity_score, axis=1)\n",
    "new_table['similarity_to_remdesivir'] = new_table['smile'].apply(lambda x: DataStructs.TanimotoSimilarity(Chem.RDKFingerprint(Chem.MolFromSmiles(x)),remdesivir_fingerprint))\n",
    "new_table.sort_values(by=['similarity_to_hiv_inhibitors', 'similarity_to_remdesivir'])\n",
    "new_table.head(10)"
   ]
  },
  {
   "cell_type": "code",
   "execution_count": 180,
   "metadata": {},
   "outputs": [],
   "source": [
    "analyze_table = new_table.copy()"
   ]
  },
  {
   "cell_type": "code",
   "execution_count": 181,
   "metadata": {},
   "outputs": [
    {
     "data": {
      "text/html": [
       "<div>\n",
       "<style scoped>\n",
       "    .dataframe tbody tr th:only-of-type {\n",
       "        vertical-align: middle;\n",
       "    }\n",
       "\n",
       "    .dataframe tbody tr th {\n",
       "        vertical-align: top;\n",
       "    }\n",
       "\n",
       "    .dataframe thead th {\n",
       "        text-align: right;\n",
       "    }\n",
       "</style>\n",
       "<table border=\"1\" class=\"dataframe\">\n",
       "  <thead>\n",
       "    <tr style=\"text-align: right;\">\n",
       "      <th></th>\n",
       "      <th>id</th>\n",
       "      <th>gen</th>\n",
       "      <th>smile</th>\n",
       "      <th>source</th>\n",
       "      <th>weight</th>\n",
       "      <th>logp</th>\n",
       "      <th>score</th>\n",
       "      <th>score_best</th>\n",
       "      <th>score_avg</th>\n",
       "      <th>similarity_to_hiv_inhibitors</th>\n",
       "      <th>similarity_to_remdesivir</th>\n",
       "    </tr>\n",
       "  </thead>\n",
       "  <tbody>\n",
       "    <tr>\n",
       "      <th>6</th>\n",
       "      <td>AAAQ</td>\n",
       "      <td>17</td>\n",
       "      <td>FC#Cc1ccccn1</td>\n",
       "      <td>genetic_algorithm</td>\n",
       "      <td>121.114</td>\n",
       "      <td>1.36010</td>\n",
       "      <td>-16.6</td>\n",
       "      <td>-16.6</td>\n",
       "      <td>-16.350000</td>\n",
       "      <td>0.076895</td>\n",
       "      <td>0.074985</td>\n",
       "    </tr>\n",
       "    <tr>\n",
       "      <th>157</th>\n",
       "      <td>AAAY</td>\n",
       "      <td>17</td>\n",
       "      <td>CC#CC#CC#CC#CC#CC#CC#CC(=O)NC1=CCCC=C1</td>\n",
       "      <td>genetic_algorithm</td>\n",
       "      <td>305.336</td>\n",
       "      <td>1.38020</td>\n",
       "      <td>-14.7</td>\n",
       "      <td>-14.7</td>\n",
       "      <td>-12.850000</td>\n",
       "      <td>0.126702</td>\n",
       "      <td>0.130973</td>\n",
       "    </tr>\n",
       "    <tr>\n",
       "      <th>655</th>\n",
       "      <td>AAAK</td>\n",
       "      <td>17</td>\n",
       "      <td>CC#CC#CC#CC#CC#CC=CC</td>\n",
       "      <td>genetic_algorithm</td>\n",
       "      <td>176.218</td>\n",
       "      <td>1.59940</td>\n",
       "      <td>-13.5</td>\n",
       "      <td>-13.5</td>\n",
       "      <td>-11.933333</td>\n",
       "      <td>0.024906</td>\n",
       "      <td>0.024257</td>\n",
       "    </tr>\n",
       "    <tr>\n",
       "      <th>764</th>\n",
       "      <td>AAAJ</td>\n",
       "      <td>17</td>\n",
       "      <td>CC#CC#CC#CC#CC#CC#CC#CC#CC#CC#CC#CC#CC#CC#CC#C...</td>\n",
       "      <td>genetic_algorithm</td>\n",
       "      <td>1182.136</td>\n",
       "      <td>1.42580</td>\n",
       "      <td>-13.4</td>\n",
       "      <td>-13.4</td>\n",
       "      <td>-11.155556</td>\n",
       "      <td>0.310702</td>\n",
       "      <td>0.320000</td>\n",
       "    </tr>\n",
       "    <tr>\n",
       "      <th>800</th>\n",
       "      <td>ABQA</td>\n",
       "      <td>12</td>\n",
       "      <td>CC1C=CC=C(C(=O)Nc2nnnn2N2CCN(C(=O)Nc3nnnnn3)C2...</td>\n",
       "      <td>generated</td>\n",
       "      <td>815.779</td>\n",
       "      <td>2.33710</td>\n",
       "      <td>-13.3</td>\n",
       "      <td>-13.3</td>\n",
       "      <td>-12.377778</td>\n",
       "      <td>0.487943</td>\n",
       "      <td>0.680991</td>\n",
       "    </tr>\n",
       "    <tr>\n",
       "      <th>950</th>\n",
       "      <td>AAXQ</td>\n",
       "      <td>16</td>\n",
       "      <td>Cc1ccc(C(=O)Nc2nnnn2N2C=NN=NN2N2CCN(C(=O)Nc3nn...</td>\n",
       "      <td>generated</td>\n",
       "      <td>696.656</td>\n",
       "      <td>3.15662</td>\n",
       "      <td>-13.2</td>\n",
       "      <td>-13.2</td>\n",
       "      <td>-12.477778</td>\n",
       "      <td>0.439515</td>\n",
       "      <td>0.601562</td>\n",
       "    </tr>\n",
       "    <tr>\n",
       "      <th>1033</th>\n",
       "      <td>AANY</td>\n",
       "      <td>12</td>\n",
       "      <td>CC1CCC(C(=O)Nc2nnnn2N2CCN(C(=O)Nc3nnnnn3)C2=O)...</td>\n",
       "      <td>generated</td>\n",
       "      <td>693.732</td>\n",
       "      <td>4.87440</td>\n",
       "      <td>-13.1</td>\n",
       "      <td>-13.1</td>\n",
       "      <td>-11.988889</td>\n",
       "      <td>0.449364</td>\n",
       "      <td>0.585162</td>\n",
       "    </tr>\n",
       "    <tr>\n",
       "      <th>1085</th>\n",
       "      <td>ABZK</td>\n",
       "      <td>16</td>\n",
       "      <td>CC1=CC=C(C(=O)Nc2nnnn2N2C=NN=NN2N2CCN(C(=O)Nc3...</td>\n",
       "      <td>generated</td>\n",
       "      <td>645.568</td>\n",
       "      <td>0.98958</td>\n",
       "      <td>-13.1</td>\n",
       "      <td>-13.1</td>\n",
       "      <td>-11.355556</td>\n",
       "      <td>0.471764</td>\n",
       "      <td>0.670251</td>\n",
       "    </tr>\n",
       "    <tr>\n",
       "      <th>1064</th>\n",
       "      <td>ABOS</td>\n",
       "      <td>16</td>\n",
       "      <td>CC1=CC=CCCC(C(=O)Nc2nnnn2N2C=NN=NN2N2CCN(C(=O)...</td>\n",
       "      <td>generated</td>\n",
       "      <td>662.639</td>\n",
       "      <td>2.15450</td>\n",
       "      <td>-13.1</td>\n",
       "      <td>-13.1</td>\n",
       "      <td>-11.922222</td>\n",
       "      <td>0.467265</td>\n",
       "      <td>0.661026</td>\n",
       "    </tr>\n",
       "    <tr>\n",
       "      <th>1029</th>\n",
       "      <td>ABCA</td>\n",
       "      <td>16</td>\n",
       "      <td>CC1CCCC(C(=O)Nc2nnnn2N2C=NN=NN2N2C=NN=NN2N2CCN...</td>\n",
       "      <td>generated</td>\n",
       "      <td>721.671</td>\n",
       "      <td>1.44670</td>\n",
       "      <td>-13.1</td>\n",
       "      <td>-13.1</td>\n",
       "      <td>-12.400000</td>\n",
       "      <td>0.474112</td>\n",
       "      <td>0.684129</td>\n",
       "    </tr>\n",
       "  </tbody>\n",
       "</table>\n",
       "</div>"
      ],
      "text/plain": [
       "        id gen                                              smile  \\\n",
       "6     AAAQ  17                                       FC#Cc1ccccn1   \n",
       "157   AAAY  17             CC#CC#CC#CC#CC#CC#CC#CC(=O)NC1=CCCC=C1   \n",
       "655   AAAK  17                               CC#CC#CC#CC#CC#CC=CC   \n",
       "764   AAAJ  17  CC#CC#CC#CC#CC#CC#CC#CC#CC#CC#CC#CC#CC#CC#CC#C...   \n",
       "800   ABQA  12  CC1C=CC=C(C(=O)Nc2nnnn2N2CCN(C(=O)Nc3nnnnn3)C2...   \n",
       "950   AAXQ  16  Cc1ccc(C(=O)Nc2nnnn2N2C=NN=NN2N2CCN(C(=O)Nc3nn...   \n",
       "1033  AANY  12  CC1CCC(C(=O)Nc2nnnn2N2CCN(C(=O)Nc3nnnnn3)C2=O)...   \n",
       "1085  ABZK  16  CC1=CC=C(C(=O)Nc2nnnn2N2C=NN=NN2N2CCN(C(=O)Nc3...   \n",
       "1064  ABOS  16  CC1=CC=CCCC(C(=O)Nc2nnnn2N2C=NN=NN2N2CCN(C(=O)...   \n",
       "1029  ABCA  16  CC1CCCC(C(=O)Nc2nnnn2N2C=NN=NN2N2C=NN=NN2N2CCN...   \n",
       "\n",
       "                 source    weight     logp  score  score_best  score_avg  \\\n",
       "6     genetic_algorithm   121.114  1.36010  -16.6       -16.6 -16.350000   \n",
       "157   genetic_algorithm   305.336  1.38020  -14.7       -14.7 -12.850000   \n",
       "655   genetic_algorithm   176.218  1.59940  -13.5       -13.5 -11.933333   \n",
       "764   genetic_algorithm  1182.136  1.42580  -13.4       -13.4 -11.155556   \n",
       "800           generated   815.779  2.33710  -13.3       -13.3 -12.377778   \n",
       "950           generated   696.656  3.15662  -13.2       -13.2 -12.477778   \n",
       "1033          generated   693.732  4.87440  -13.1       -13.1 -11.988889   \n",
       "1085          generated   645.568  0.98958  -13.1       -13.1 -11.355556   \n",
       "1064          generated   662.639  2.15450  -13.1       -13.1 -11.922222   \n",
       "1029          generated   721.671  1.44670  -13.1       -13.1 -12.400000   \n",
       "\n",
       "      similarity_to_hiv_inhibitors  similarity_to_remdesivir  \n",
       "6                         0.076895                  0.074985  \n",
       "157                       0.126702                  0.130973  \n",
       "655                       0.024906                  0.024257  \n",
       "764                       0.310702                  0.320000  \n",
       "800                       0.487943                  0.680991  \n",
       "950                       0.439515                  0.601562  \n",
       "1033                      0.449364                  0.585162  \n",
       "1085                      0.471764                  0.670251  \n",
       "1064                      0.467265                  0.661026  \n",
       "1029                      0.474112                  0.684129  "
      ]
     },
     "execution_count": 181,
     "metadata": {},
     "output_type": "execute_result"
    }
   ],
   "source": [
    "new_table = new_table[(new_table.score < -12) & (new_table.logp < 5) & (new_table.logp > 0) & (new_table.score_best < -12)]\n",
    "new_table.head(10)"
   ]
  },
  {
   "cell_type": "code",
   "execution_count": 189,
   "metadata": {},
   "outputs": [
    {
     "data": {
      "text/plain": [
       "(16969, 11)"
      ]
     },
     "execution_count": 189,
     "metadata": {},
     "output_type": "execute_result"
    }
   ],
   "source": [
    "new_table.shape"
   ]
  },
  {
   "cell_type": "markdown",
   "metadata": {},
   "source": [
    "new_table = new_table.head(30)"
   ]
  },
  {
   "cell_type": "code",
   "execution_count": 184,
   "metadata": {
    "scrolled": true
   },
   "outputs": [],
   "source": [
    "new_table.to_csv(r'./generations/master_results_table_final.csv', index=False)"
   ]
  },
  {
   "cell_type": "code",
   "execution_count": 185,
   "metadata": {},
   "outputs": [],
   "source": [
    "mols_for_export = new_table.apply(set_molecule, axis=1)"
   ]
  },
  {
   "cell_type": "code",
   "execution_count": 186,
   "metadata": {},
   "outputs": [],
   "source": [
    "w = Chem.SDWriter('./generations/genfinal.sdf')\n",
    "for m in mols_for_export:\n",
    "    w.write(m)"
   ]
  },
  {
   "cell_type": "markdown",
   "metadata": {},
   "source": [
    "# Data Visualization"
   ]
  },
  {
   "cell_type": "code",
   "execution_count": 220,
   "metadata": {
    "scrolled": true
   },
   "outputs": [],
   "source": [
    "import pandas as pd\n",
    "import numpy as np\n",
    "%matplotlib inline\n",
    "import matplotlib.pyplot as plt\n",
    "import seaborn as sns"
   ]
  },
  {
   "cell_type": "code",
   "execution_count": 221,
   "metadata": {
    "scrolled": true
   },
   "outputs": [
    {
     "data": {
      "text/html": [
       "<div>\n",
       "<style scoped>\n",
       "    .dataframe tbody tr th:only-of-type {\n",
       "        vertical-align: middle;\n",
       "    }\n",
       "\n",
       "    .dataframe tbody tr th {\n",
       "        vertical-align: top;\n",
       "    }\n",
       "\n",
       "    .dataframe thead th {\n",
       "        text-align: right;\n",
       "    }\n",
       "</style>\n",
       "<table border=\"1\" class=\"dataframe\">\n",
       "  <thead>\n",
       "    <tr style=\"text-align: right;\">\n",
       "      <th></th>\n",
       "      <th>weight</th>\n",
       "      <th>logp</th>\n",
       "      <th>score</th>\n",
       "      <th>score_best</th>\n",
       "      <th>score_avg</th>\n",
       "      <th>similarity_to_hiv_inhibitors</th>\n",
       "      <th>similarity_to_remdesivir</th>\n",
       "    </tr>\n",
       "  </thead>\n",
       "  <tbody>\n",
       "    <tr>\n",
       "      <th>count</th>\n",
       "      <td>16969.000000</td>\n",
       "      <td>16969.000000</td>\n",
       "      <td>16969.000000</td>\n",
       "      <td>16119.000000</td>\n",
       "      <td>16119.000000</td>\n",
       "      <td>16969.000000</td>\n",
       "      <td>16969.000000</td>\n",
       "    </tr>\n",
       "    <tr>\n",
       "      <th>mean</th>\n",
       "      <td>526.429423</td>\n",
       "      <td>9.266839</td>\n",
       "      <td>-7.881342</td>\n",
       "      <td>-7.874049</td>\n",
       "      <td>-7.274068</td>\n",
       "      <td>0.212549</td>\n",
       "      <td>0.237035</td>\n",
       "    </tr>\n",
       "    <tr>\n",
       "      <th>std</th>\n",
       "      <td>443.932298</td>\n",
       "      <td>13.527448</td>\n",
       "      <td>3.210568</td>\n",
       "      <td>3.238414</td>\n",
       "      <td>2.974729</td>\n",
       "      <td>0.135102</td>\n",
       "      <td>0.178669</td>\n",
       "    </tr>\n",
       "    <tr>\n",
       "      <th>min</th>\n",
       "      <td>28.054000</td>\n",
       "      <td>-9.704780</td>\n",
       "      <td>-17.000000</td>\n",
       "      <td>-17.000000</td>\n",
       "      <td>-16.850000</td>\n",
       "      <td>0.001554</td>\n",
       "      <td>0.000608</td>\n",
       "    </tr>\n",
       "    <tr>\n",
       "      <th>25%</th>\n",
       "      <td>197.237000</td>\n",
       "      <td>1.314500</td>\n",
       "      <td>-10.700000</td>\n",
       "      <td>-10.700000</td>\n",
       "      <td>-10.077778</td>\n",
       "      <td>0.086704</td>\n",
       "      <td>0.085629</td>\n",
       "    </tr>\n",
       "    <tr>\n",
       "      <th>50%</th>\n",
       "      <td>338.407000</td>\n",
       "      <td>2.563100</td>\n",
       "      <td>-7.000000</td>\n",
       "      <td>-6.900000</td>\n",
       "      <td>-6.422222</td>\n",
       "      <td>0.201744</td>\n",
       "      <td>0.195954</td>\n",
       "    </tr>\n",
       "    <tr>\n",
       "      <th>75%</th>\n",
       "      <td>693.845000</td>\n",
       "      <td>8.119200</td>\n",
       "      <td>-5.300000</td>\n",
       "      <td>-5.300000</td>\n",
       "      <td>-4.900000</td>\n",
       "      <td>0.319562</td>\n",
       "      <td>0.354749</td>\n",
       "    </tr>\n",
       "    <tr>\n",
       "      <th>max</th>\n",
       "      <td>1767.402000</td>\n",
       "      <td>49.152600</td>\n",
       "      <td>19.900000</td>\n",
       "      <td>19.900000</td>\n",
       "      <td>19.900000</td>\n",
       "      <td>0.512711</td>\n",
       "      <td>0.745889</td>\n",
       "    </tr>\n",
       "  </tbody>\n",
       "</table>\n",
       "</div>"
      ],
      "text/plain": [
       "             weight          logp         score    score_best     score_avg  \\\n",
       "count  16969.000000  16969.000000  16969.000000  16119.000000  16119.000000   \n",
       "mean     526.429423      9.266839     -7.881342     -7.874049     -7.274068   \n",
       "std      443.932298     13.527448      3.210568      3.238414      2.974729   \n",
       "min       28.054000     -9.704780    -17.000000    -17.000000    -16.850000   \n",
       "25%      197.237000      1.314500    -10.700000    -10.700000    -10.077778   \n",
       "50%      338.407000      2.563100     -7.000000     -6.900000     -6.422222   \n",
       "75%      693.845000      8.119200     -5.300000     -5.300000     -4.900000   \n",
       "max     1767.402000     49.152600     19.900000     19.900000     19.900000   \n",
       "\n",
       "       similarity_to_hiv_inhibitors  similarity_to_remdesivir  \n",
       "count                  16969.000000              16969.000000  \n",
       "mean                       0.212549                  0.237035  \n",
       "std                        0.135102                  0.178669  \n",
       "min                        0.001554                  0.000608  \n",
       "25%                        0.086704                  0.085629  \n",
       "50%                        0.201744                  0.195954  \n",
       "75%                        0.319562                  0.354749  \n",
       "max                        0.512711                  0.745889  "
      ]
     },
     "execution_count": 221,
     "metadata": {},
     "output_type": "execute_result"
    }
   ],
   "source": [
    "analyze_table.describe()"
   ]
  },
  {
   "cell_type": "code",
   "execution_count": 222,
   "metadata": {
    "scrolled": false
   },
   "outputs": [
    {
     "data": {
      "text/plain": [
       "Index(['smile', 'gen', 'id', 'source', 'weight', 'logp', 'score'], dtype='object')"
      ]
     },
     "execution_count": 222,
     "metadata": {},
     "output_type": "execute_result"
    }
   ],
   "source": [
    "final_joined.columns"
   ]
  },
  {
   "cell_type": "code",
   "execution_count": 223,
   "metadata": {},
   "outputs": [
    {
     "data": {
      "text/plain": [
       "Index(['id', 'gen', 'smile', 'source', 'weight', 'logp', 'score', 'score_best',\n",
       "       'score_avg', 'similarity_to_hiv_inhibitors',\n",
       "       'similarity_to_remdesivir'],\n",
       "      dtype='object')"
      ]
     },
     "execution_count": 223,
     "metadata": {},
     "output_type": "execute_result"
    }
   ],
   "source": [
    "analyze_table.columns"
   ]
  },
  {
   "cell_type": "markdown",
   "metadata": {},
   "source": [
    "### Binding Score"
   ]
  },
  {
   "cell_type": "code",
   "execution_count": 224,
   "metadata": {
    "scrolled": true
   },
   "outputs": [
    {
     "data": {
      "text/plain": [
       "<Figure size 576x432 with 0 Axes>"
      ]
     },
     "metadata": {},
     "output_type": "display_data"
    },
    {
     "data": {
      "image/png": "[encoded data removed]",
      "text/plain": [
       "<Figure size 360x360 with 1 Axes>"
      ]
     },
     "metadata": {},
     "output_type": "display_data"
    }
   ],
   "source": [
    "plt.figure(figsize=(8,6))\n",
    "sns.set()\n",
    "score = sns.relplot(x=\"gen\", y=\"score\", kind=\"line\", data=final_joined)\n",
    "plt.savefig('img/line_plot_score.svg',dpi=300)"
   ]
  },
  {
   "cell_type": "markdown",
   "metadata": {},
   "source": [
    "### Binding Score and logP"
   ]
  },
  {
   "cell_type": "code",
   "execution_count": 225,
   "metadata": {},
   "outputs": [
    {
     "data": {
      "text/plain": [
       "Index(['smile', 'gen', 'id', 'source', 'weight', 'logp', 'score'], dtype='object')"
      ]
     },
     "execution_count": 225,
     "metadata": {},
     "output_type": "execute_result"
    }
   ],
   "source": [
    "final_joined.columns"
   ]
  },
  {
   "cell_type": "code",
   "execution_count": 226,
   "metadata": {
    "scrolled": true
   },
   "outputs": [
    {
     "data": {
      "image/png": "[encoded data removed]",
      "text/plain": [
       "<Figure size 1008x432 with 1 Axes>"
      ]
     },
     "metadata": {},
     "output_type": "display_data"
    }
   ],
   "source": [
    "# Set the width and height of the figure\n",
    "plt.figure(figsize=(14,6))\n",
    "\n",
    "sns.lineplot(y=final_joined['score'],x=final_joined['gen'], label=\"score\")\n",
    "sns.lineplot(y=final_joined['logp'],x=final_joined['gen'], label=\"logp\")\n",
    "\n",
    "# Add label for horizontal axis\n",
    "plt.xlabel(\"gen\")\n",
    "\n",
    "plt.savefig('img/line_plot_score_logp.svg',dpi=300)"
   ]
  },
  {
   "cell_type": "code",
   "execution_count": 227,
   "metadata": {},
   "outputs": [
    {
     "data": {
      "text/plain": [
       "<Figure size 1008x432 with 0 Axes>"
      ]
     },
     "metadata": {},
     "output_type": "display_data"
    },
    {
     "data": {
      "image/png": "[encoded data removed]",
      "text/plain": [
       "<Figure size 426.35x360 with 1 Axes>"
      ]
     },
     "metadata": {},
     "output_type": "display_data"
    }
   ],
   "source": [
    "plt.figure(figsize=(14,6))\n",
    "final[\"edible\"] = (final_joined[\"logp\"]<5) & (final_joined[\"logp\"]>0)\n",
    "sns.lmplot(x=\"gen\",y=\"score\", data=final, hue=\"edible\")\n",
    "\n",
    "plt.savefig('img/lm_plot_score_edible.svg',dpi=300)"
   ]
  },
  {
   "cell_type": "markdown",
   "metadata": {},
   "source": [
    "### Max, Mean, Min of score"
   ]
  },
  {
   "cell_type": "code",
   "execution_count": 228,
   "metadata": {},
   "outputs": [
    {
     "data": {
      "image/png": "[encoded data removed]",
      "text/plain": [
       "<Figure size 1008x432 with 1 Axes>"
      ]
     },
     "metadata": {},
     "output_type": "display_data"
    }
   ],
   "source": [
    "# Set the width and height of the figure\n",
    "plt.figure(figsize=(14,6))\n",
    "\n",
    "sns.boxplot(x=\"gen\", y=\"score\", data=final_joined)\n",
    "\n",
    "# Add label for horizontal axis\n",
    "plt.xlabel(\"gen\")\n",
    "\n",
    "sns.set()\n",
    "plt.savefig('img/box_plot_score.svg',dpi=300)"
   ]
  },
  {
   "cell_type": "markdown",
   "metadata": {},
   "source": [
    "### Max, Mean and Min of logP"
   ]
  },
  {
   "cell_type": "code",
   "execution_count": 229,
   "metadata": {
    "scrolled": true
   },
   "outputs": [
    {
     "data": {
      "image/png": "[encoded data removed]",
      "text/plain": [
       "<Figure size 1008x432 with 1 Axes>"
      ]
     },
     "metadata": {},
     "output_type": "display_data"
    }
   ],
   "source": [
    "# Set the width and height of the figure\n",
    "plt.figure(figsize=(14,6))\n",
    "\n",
    "sns.boxplot(x=\"gen\", y=\"logp\", data=final_joined)\n",
    "\n",
    "# Add label for horizontal axis\n",
    "plt.xlabel(\"gen\")\n",
    "\n",
    "sns.set()\n",
    "plt.savefig('img/box_plot_logp.svg',dpi=300)"
   ]
  },
  {
   "cell_type": "markdown",
   "metadata": {},
   "source": [
    "# Box Plot for gen 15"
   ]
  },
  {
   "cell_type": "code",
   "execution_count": 234,
   "metadata": {},
   "outputs": [
    {
     "name": "stdout",
     "output_type": "stream",
     "text": [
      "(1, 7)\n"
     ]
    },
    {
     "data": {
      "text/plain": [
       "Text(0.5, 0, 'gen')"
      ]
     },
     "execution_count": 234,
     "metadata": {},
     "output_type": "execute_result"
    },
    {
     "data": {
      "image/png": "[encoded data removed]",
      "text/plain": [
       "<Figure size 1008x432 with 1 Axes>"
      ]
     },
     "metadata": {},
     "output_type": "display_data"
    }
   ],
   "source": [
    "gen15 = final_joined.copy()\n",
    "gen15 = gen15[gen15['gen']==15]\n",
    "print(gen15.shape)\n",
    "\n",
    "# Score\n",
    "# Set the width and height of the figure\n",
    "plt.figure(figsize=(14,6))\n",
    "\n",
    "sns.boxplot(x=\"gen\", y=\"logp\", data=gen15)\n",
    "\n",
    "# Add label for horizontal axis\n",
    "plt.xlabel(\"gen\")"
   ]
  },
  {
   "cell_type": "markdown",
   "metadata": {},
   "source": [
    "### Gaussian of the logP"
   ]
  },
  {
   "cell_type": "code",
   "execution_count": 26,
   "metadata": {
    "scrolled": false
   },
   "outputs": [
    {
     "data": {
      "text/plain": [
       "<matplotlib.axes._subplots.AxesSubplot at 0x19c621d15c0>"
      ]
     },
     "execution_count": 26,
     "metadata": {},
     "output_type": "execute_result"
    },
    {
     "data": {
      "image/png": "[encoded data removed]",
      "text/plain": [
       "<Figure size 1008x432 with 1 Axes>"
      ]
     },
     "metadata": {},
     "output_type": "display_data"
    }
   ],
   "source": [
    "# Sort the dataframe by target\n",
    "plt.figure(figsize=(14,6))\n",
    "\n",
    "gen0_dist = final_joined.loc[final_joined['gen'] == 0]\n",
    "gen1_dist = final_joined.loc[final_joined['gen'] == 1]\n",
    "gen2_dist = final_joined.loc[final_joined['gen'] == 2]\n",
    "gen3_dist = final_joined.loc[final_joined['gen'] == 3]\n",
    "gen4_dist = final_joined.loc[final_joined['gen'] == 4]\n",
    "gen5_dist = final_joined.loc[final_joined['gen'] == 5]\n",
    "gen6_dist = final_joined.loc[final_joined['gen'] == 6]\n",
    "gen7_dist = final_joined.loc[final_joined['gen'] == 7]\n",
    "gen8_dist = final_joined.loc[final_joined['gen'] == 8]\n",
    "gen9_dist = final_joined.loc[final_joined['gen'] == 9]\n",
    "gen10_dist = final_joined.loc[final_joined['gen'] == 10]\n",
    "gen11_dist = final_joined.loc[final_joined['gen'] == 11]\n",
    "gen12_dist = final_joined.loc[final_joined['gen'] == 12]\n",
    "\n",
    "\n",
    "sns.distplot(gen0_dist[['logp']], hist=False, rug=True, label=\"gen0\")\n",
    "sns.distplot(gen1_dist[['logp']], hist=False, rug=True, label=\"gen1\")\n",
    "sns.distplot(gen2_dist[['logp']], hist=False, rug=True, label=\"gen2\")\n",
    "sns.distplot(gen3_dist[['logp']], hist=False, rug=True, label=\"gen3\")\n",
    "sns.distplot(gen4_dist[['logp']], hist=False, rug=True, label=\"gen4\")\n",
    "sns.distplot(gen5_dist[['logp']], hist=False, rug=True, label=\"gen5\")\n",
    "sns.distplot(gen6_dist[['logp']], hist=False, rug=True, label=\"gen6\")\n",
    "sns.distplot(gen7_dist[['logp']], hist=False, rug=True, label=\"gen7\")\n",
    "sns.distplot(gen8_dist[['logp']], hist=False, rug=True, label=\"gen8\")\n",
    "sns.distplot(gen9_dist[['logp']], hist=False, rug=True, label=\"gen9\")\n",
    "sns.distplot(gen10_dist[['logp']], hist=False, rug=True, label=\"gen10\")\n",
    "sns.distplot(gen11_dist[['logp']], hist=False, rug=True, label=\"gen11\")\n",
    "sns.distplot(gen12_dist[['logp']], hist=False, rug=True, label=\"gen12\")\n",
    "\n",
    "\n",
    "\n"
   ]
  },
  {
   "cell_type": "markdown",
   "metadata": {},
   "source": [
    "### Correlations between attributes"
   ]
  },
  {
   "cell_type": "code",
   "execution_count": 27,
   "metadata": {
    "scrolled": false
   },
   "outputs": [
    {
     "data": {
      "text/plain": [
       "<matplotlib.axes._subplots.AxesSubplot at 0x19c63603fd0>"
      ]
     },
     "execution_count": 27,
     "metadata": {},
     "output_type": "execute_result"
    },
    {
     "data": {
      "image/png": "[encoded data removed]",
      "text/plain": [
       "<Figure size 1008x432 with 2 Axes>"
      ]
     },
     "metadata": {},
     "output_type": "display_data"
    }
   ],
   "source": [
    "plt.figure(figsize=(14,6))\n",
    "corr = final_joined.loc[:,final_joined.dtypes == 'float64'].corr()\n",
    "sns.heatmap(corr, xticklabels=corr.columns, annot=True, yticklabels=corr.columns, cmap=sns.diverging_palette(220, 10, as_cmap=True))"
   ]
  },
  {
   "cell_type": "markdown",
   "metadata": {},
   "source": [
    "### Violin Plot"
   ]
  },
  {
   "cell_type": "code",
   "execution_count": 197,
   "metadata": {
    "scrolled": true
   },
   "outputs": [
    {
     "data": {
      "image/png": "[encoded data removed]",
      "text/plain": [
       "<Figure size 1440x360 with 1 Axes>"
      ]
     },
     "metadata": {},
     "output_type": "display_data"
    }
   ],
   "source": [
    "plt.figure(figsize=(20,5))\n",
    "sns.violinplot(x=\"gen\", y=\"score\", data=final_joined)\n",
    "\n",
    "sns.set()\n",
    "plt.savefig('img/violin_plot_score.svg',dpi=300)"
   ]
  },
  {
   "cell_type": "markdown",
   "metadata": {},
   "source": [
    "### KDE jointplot "
   ]
  },
  {
   "cell_type": "code",
   "execution_count": 34,
   "metadata": {
    "scrolled": false
   },
   "outputs": [
    {
     "data": {
      "text/plain": [
       "<Figure size 1440x360 with 0 Axes>"
      ]
     },
     "metadata": {},
     "output_type": "display_data"
    },
    {
     "data": {
      "image/png": "[encoded data removed]",
      "text/plain": [
       "<Figure size 432x432 with 3 Axes>"
      ]
     },
     "metadata": {},
     "output_type": "display_data"
    }
   ],
   "source": [
    "plt.figure(figsize=(20,5))\n",
    "\n",
    "sns.jointplot(x=\"gen\", y=\"score\", data=final_joined, kind=\"kde\")\n",
    "\n",
    "sns.set()\n",
    "plt.savefig('img/kde_joinplot_score.svg',dpi=300)"
   ]
  },
  {
   "cell_type": "code",
   "execution_count": null,
   "metadata": {},
   "outputs": [],
   "source": []
  }
 ],
 "metadata": {
  "kernelspec": {
   "display_name": "Python 3",
   "language": "python",
   "name": "python3"
  },
  "language_info": {
   "codemirror_mode": {
    "name": "ipython",
    "version": 3
   },
   "file_extension": ".py",
   "mimetype": "text/x-python",
   "name": "python",
   "nbconvert_exporter": "python",
   "pygments_lexer": "ipython3",
   "version": "3.6.10"
  }
 },
 "nbformat": 4,
 "nbformat_minor": 4
}
